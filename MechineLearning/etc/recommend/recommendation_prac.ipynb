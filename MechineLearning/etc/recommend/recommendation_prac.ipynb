{
 "cells": [
  {
   "cell_type": "markdown",
   "metadata": {
    "id": "KURDVU0HSx--"
   },
   "source": [
    "# 라이브러리 import"
   ]
  },
  {
   "cell_type": "code",
   "execution_count": null,
   "metadata": {
    "colab": {
     "base_uri": "https://localhost:8080/"
    },
    "id": "FBF32DE6RIie",
    "outputId": "c9b72a5f-2f46-4a9b-f077-82daf3da4299"
   },
   "outputs": [
    {
     "name": "stdout",
     "output_type": "stream",
     "text": [
      "Mounted at /gdrive\n",
      "/gdrive\n"
     ]
    }
   ],
   "source": [
    "from google.colab import drive\n",
    "drive.mount('/gdrive')\n",
    "%cd /gdrive"
   ]
  },
  {
   "cell_type": "code",
   "execution_count": null,
   "metadata": {
    "id": "E2iPHZO7RKY9"
   },
   "outputs": [],
   "source": [
    "base_dir = \"/gdrive/MyDrive/SSAFY-필드프로젝트/\""
   ]
  },
  {
   "cell_type": "code",
   "execution_count": null,
   "metadata": {
    "id": "pBqxgtF1TDvz"
   },
   "outputs": [],
   "source": [
    "!pip install pymysql"
   ]
  },
  {
   "cell_type": "code",
   "execution_count": null,
   "metadata": {
    "id": "_3IEVHzUhvpn"
   },
   "outputs": [],
   "source": [
    "!pip install fasttext"
   ]
  },
  {
   "cell_type": "code",
   "execution_count": null,
   "metadata": {
    "id": "_K92Q5_GXo1V"
   },
   "outputs": [],
   "source": [
    "!pip install konlpy\n",
    "!set -x \\\n",
    "&& pip install konlpy \\\n",
    "&& curl -s https://raw.githubusercontent.com/konlpy/konlpy/master/scripts/mecab.sh | bash -x"
   ]
  },
  {
   "cell_type": "code",
   "execution_count": null,
   "metadata": {
    "id": "UeLLL8-nSm41"
   },
   "outputs": [],
   "source": [
    "import pymysql\n",
    "import pandas as pd\n",
    "import numpy as np\n",
    "import matplotlib.pyplot as plt\n",
    "import re\n",
    "import nltk\n",
    "import urllib.request\n",
    "import requests\n",
    "import gensim\n",
    "import fasttext\n",
    "import fasttext.util\n",
    "from tqdm import tqdm\n",
    "from collections import namedtuple\n",
    "from konlpy.tag import Mecab\n",
    "from nltk.tokenize import RegexpTokenizer\n",
    "from gensim.models import Word2Vec, doc2vec\n",
    "from gensim.models import KeyedVectors\n",
    "from nltk.corpus import stopwords\n",
    "from sklearn.metrics.pairwise import cosine_similarity"
   ]
  },
  {
   "cell_type": "markdown",
   "metadata": {
    "id": "l_xY2KgsTZd3"
   },
   "source": [
    "# DB에서 책 데이터 가져오기"
   ]
  },
  {
   "cell_type": "code",
   "execution_count": null,
   "metadata": {
    "id": "yNtpX-9zTAZR"
   },
   "outputs": [],
   "source": [
    "db = pymysql.connect(\n",
    "    user='ssafy',\n",
    "    passwd='ssafyssafy',\n",
    "    host='field-ensemble.cqwzhdgaabxu.ap-northeast-2.rds.amazonaws.com',\n",
    "    db='fieldproject',\n",
    "    charset='utf8'\n",
    ")"
   ]
  },
  {
   "cell_type": "code",
   "execution_count": null,
   "metadata": {
    "id": "IMRFWXL3TeQb"
   },
   "outputs": [],
   "source": [
    "books = []\n",
    "with db:\n",
    "    with db.cursor(pymysql.cursors.DictCursor) as cursor:\n",
    "        # sql = '''\n",
    "        #     SELECT book_isbn, book_title, book_author, book_publisher, book_contents, book_description FROM book LIMIT 40000;\n",
    "        # '''\n",
    "        sql = '''\n",
    "            SELECT book_isbn, book_title, book_author, book_publisher, book_contents, book_description FROM book;\n",
    "        '''\n",
    "\n",
    "        cursor.execute(sql)\n",
    "        books = cursor.fetchall()\n",
    "books = pd.DataFrame(books)"
   ]
  },
  {
   "cell_type": "code",
   "execution_count": null,
   "metadata": {
    "colab": {
     "base_uri": "https://localhost:8080/"
    },
    "id": "85yfKmmKU0sf",
    "outputId": "5acdab65-740e-474e-eee9-f15fa5d72ef4"
   },
   "outputs": [
    {
     "name": "stdout",
     "output_type": "stream",
     "text": [
      "<class 'pandas.core.frame.DataFrame'>\n",
      "RangeIndex: 40000 entries, 0 to 39999\n",
      "Data columns (total 6 columns):\n",
      " #   Column            Non-Null Count  Dtype \n",
      "---  ------            --------------  ----- \n",
      " 0   book_isbn         40000 non-null  int64 \n",
      " 1   book_title        40000 non-null  object\n",
      " 2   book_author       40000 non-null  object\n",
      " 3   book_publisher    40000 non-null  object\n",
      " 4   book_contents     40000 non-null  object\n",
      " 5   book_description  40000 non-null  object\n",
      "dtypes: int64(1), object(5)\n",
      "memory usage: 1.8+ MB\n"
     ]
    }
   ],
   "source": [
    "books.info()"
   ]
  },
  {
   "cell_type": "code",
   "execution_count": null,
   "metadata": {
    "colab": {
     "base_uri": "https://localhost:8080/",
     "height": 281
    },
    "id": "JStF6eJ9VHhY",
    "outputId": "055828e4-19c6-4ed5-982c-a4f3bf08428c"
   },
   "outputs": [
    {
     "data": {
      "text/html": [
       "<div>\n",
       "<style scoped>\n",
       "    .dataframe tbody tr th:only-of-type {\n",
       "        vertical-align: middle;\n",
       "    }\n",
       "\n",
       "    .dataframe tbody tr th {\n",
       "        vertical-align: top;\n",
       "    }\n",
       "\n",
       "    .dataframe thead th {\n",
       "        text-align: right;\n",
       "    }\n",
       "</style>\n",
       "<table border=\"1\" class=\"dataframe\">\n",
       "  <thead>\n",
       "    <tr style=\"text-align: right;\">\n",
       "      <th></th>\n",
       "      <th>book_isbn</th>\n",
       "      <th>book_title</th>\n",
       "      <th>book_author</th>\n",
       "      <th>book_publisher</th>\n",
       "      <th>book_contents</th>\n",
       "      <th>book_description</th>\n",
       "      <th>cleaned_contents</th>\n",
       "      <th>cleaned_description</th>\n",
       "    </tr>\n",
       "  </thead>\n",
       "  <tbody>\n",
       "    <tr>\n",
       "      <th>0</th>\n",
       "      <td>2592576687009</td>\n",
       "      <td>에스콰이어 Esquire C형 2021.3 (표지 : 카이) (부록없음)</td>\n",
       "      <td>에스콰이어 편집부 지음</td>\n",
       "      <td>허스트중앙(Hearst-Joongang)</td>\n",
       "      <td>카이 14p</td>\n",
       "      <td>카이 14p</td>\n",
       "      <td>카이</td>\n",
       "      <td>카이</td>\n",
       "    </tr>\n",
       "    <tr>\n",
       "      <th>1</th>\n",
       "      <td>8100009954419</td>\n",
       "      <td>해동율경집</td>\n",
       "      <td>김혜승 엮음</td>\n",
       "      <td>선문출판사</td>\n",
       "      <td>제 1편 시송문\\n\\r\\n천수경\\r\\n고왕경 \\r\\n몽수경\\r\\n관세음보살신주경\\r...</td>\n",
       "      <td>제 1편 시송문\\n\\r\\n천수경\\r\\n고왕경 \\r\\n몽수경\\r\\n관세음보살신주경\\r...</td>\n",
       "      <td>제 편시 송문 천수경 고왕경 몽 수경 관세음보살 신주경 수생 경 반야심경 화엄경 약...</td>\n",
       "      <td>제 편시 송문 천수경 고왕경 몽 수경 관세음보살 신주경 수생 경 반야심경 화엄경 약...</td>\n",
       "    </tr>\n",
       "    <tr>\n",
       "      <th>2</th>\n",
       "      <td>8620000007001</td>\n",
       "      <td>지장경 (우리말, 세로)</td>\n",
       "      <td>정일 외 편집부 지음</td>\n",
       "      <td>보련각</td>\n",
       "      <td>지장계청\\r\\n  1. 지장보살본원경\\r\\n   제1품 - 도리천궁에서 신통을 나투...</td>\n",
       "      <td>지장계청\\r\\n  1. 지장보살본원경\\r\\n   제1품 - 도리천궁에서 신통을 나투...</td>\n",
       "      <td>지장 계청 지장보살 본 원경 제품 도리천궁 에서 신통 나투 제품 분신 모이 제품 중...</td>\n",
       "      <td>지장 계청 지장보살 본 원경 제품 도리천궁 에서 신통 나투 제품 분신 모이 제품 중...</td>\n",
       "    </tr>\n",
       "    <tr>\n",
       "      <th>3</th>\n",
       "      <td>8801748053950</td>\n",
       "      <td>떴다 떴다 종이비행기 111</td>\n",
       "      <td>정규일 지음</td>\n",
       "      <td>종이나라</td>\n",
       "      <td>종이접기 기본기호와 약속 ... 3\\n지은이의 말 ... 4\\n「떴다! 떴다! 종이...</td>\n",
       "      <td>가장 잘 나는 종이비행기 기종 6종류와 디자인 색종이 111장으로 구성되어 있어 원...</td>\n",
       "      <td>종이접기 기본 기호 약속 지은이 말 떴 떴 종이비행기 대하 여 비행기 역사 항공 단...</td>\n",
       "      <td>가장 나 종이비행기 기종 종류 디자인 색종이 장 구성 되 어 있 어 원 디자인 원 ...</td>\n",
       "    </tr>\n",
       "    <tr>\n",
       "      <th>4</th>\n",
       "      <td>8801748063812</td>\n",
       "      <td>다면체 종이접기</td>\n",
       "      <td>종이나라 편집부 지음</td>\n",
       "      <td>종이나라</td>\n",
       "      <td>종이접기의 가치••••••••2\\r\\n목차•••••••••••••••••••••••...</td>\n",
       "      <td>다면체 종이접기를 하면 두뇌개발과 예술적 감각이 향상되고 자기효능감이 높아진다. 다...</td>\n",
       "      <td>종이접기 가치 목차 기본 기호 약속 삼각 육면체 정육면체 정육면체 정육면체 팔면체 ...</td>\n",
       "      <td>다면체 종이접기 면 두뇌 개발 예술 적 감각 향상 되 자기 효능감 높 아 진다 다면...</td>\n",
       "    </tr>\n",
       "  </tbody>\n",
       "</table>\n",
       "</div>"
      ],
      "text/plain": [
       "       book_isbn  ...                                cleaned_description\n",
       "0  2592576687009  ...                                                 카이\n",
       "1  8100009954419  ...  제 편시 송문 천수경 고왕경 몽 수경 관세음보살 신주경 수생 경 반야심경 화엄경 약...\n",
       "2  8620000007001  ...  지장 계청 지장보살 본 원경 제품 도리천궁 에서 신통 나투 제품 분신 모이 제품 중...\n",
       "3  8801748053950  ...  가장 나 종이비행기 기종 종류 디자인 색종이 장 구성 되 어 있 어 원 디자인 원 ...\n",
       "4  8801748063812  ...  다면체 종이접기 면 두뇌 개발 예술 적 감각 향상 되 자기 효능감 높 아 진다 다면...\n",
       "\n",
       "[5 rows x 8 columns]"
      ]
     },
     "execution_count": 39,
     "metadata": {
      "tags": []
     },
     "output_type": "execute_result"
    }
   ],
   "source": [
    "books.head()"
   ]
  },
  {
   "cell_type": "code",
   "execution_count": null,
   "metadata": {
    "id": "ipOgJGu5VR_o"
   },
   "outputs": [],
   "source": [
    "mecab = Mecab() \n",
    "def preprocess(content):\n",
    "    stopwords = {\n",
    "        '도', '는', '다', '의', '가', '이', '은', '한', '에', '하', '고', '을', '를', '인', '듯', '과', '와', '네', '들', '듯', '지', '임', '게',\n",
    "        '의','가','이','은','들','는','좀','잘','걍','과','도','를','으로','자','에','와','한','하다'\n",
    "    }\n",
    "\n",
    "    content = re.sub('[^ㄱ-ㅎㅏ-ㅣ가-힣]', '', str(content))\n",
    "    content = re.sub(\"([a-zA-Z0-9_.+-]+@[a-zA-Z0-9-]+.[a-zA-Z0-9-.]+)\", '', str(content))\n",
    "    content = re.sub(\"(http|ftp|https)://(?:[-\\w.]|(?:\\da-fA-F]{2}))+\", '', str(content))\n",
    "    content = re.sub(\"<[^>]*>\", '', str(content))\n",
    "    content = re.sub(\"[\\r|\\n]\", '', str(content))\n",
    "    content = re.sub(\"\\(\", '', str(content))\n",
    "    content = re.sub(\"\\)\", '', str(content))\n",
    "\n",
    "    content = mecab.morphs(content) # 토큰화\n",
    "    content = [word for word in content if not word in stopwords] # 불용어 제거\n",
    "    content = \" \".join(content)\n",
    "    return content\n",
    "\n",
    "books['cleaned_title'] = books['book_title'].apply(preprocess)\n",
    "books['cleaned_contents'] = books['book_contents'].apply(preprocess)\n",
    "books['cleaned_description'] = books['book_description'].apply(preprocess)"
   ]
  },
  {
   "cell_type": "code",
   "execution_count": null,
   "metadata": {
    "colab": {
     "base_uri": "https://localhost:8080/"
    },
    "id": "a4Tsnw8JWMIi",
    "outputId": "e4ae9e58-a141-49f7-b9bb-7b2cf776d128"
   },
   "outputs": [
    {
     "name": "stdout",
     "output_type": "stream",
     "text": [
      "<class 'pandas.core.frame.DataFrame'>\n",
      "RangeIndex: 88416 entries, 0 to 88415\n",
      "Data columns (total 9 columns):\n",
      " #   Column               Non-Null Count  Dtype \n",
      "---  ------               --------------  ----- \n",
      " 0   book_isbn            88416 non-null  int64 \n",
      " 1   book_title           88416 non-null  object\n",
      " 2   book_author          88416 non-null  object\n",
      " 3   book_publisher       88416 non-null  object\n",
      " 4   book_contents        88416 non-null  object\n",
      " 5   book_description     88416 non-null  object\n",
      " 6   cleaned_title        88416 non-null  object\n",
      " 7   cleaned_contents     88416 non-null  object\n",
      " 8   cleaned_description  88416 non-null  object\n",
      "dtypes: int64(1), object(8)\n",
      "memory usage: 6.1+ MB\n"
     ]
    }
   ],
   "source": [
    "books.info()"
   ]
  },
  {
   "cell_type": "code",
   "execution_count": null,
   "metadata": {
    "id": "DaIm00xAGHFp"
   },
   "outputs": [],
   "source": [
    "books.to_pickle(base_dir + \"data/book_data.pkl\")"
   ]
  },
  {
   "cell_type": "markdown",
   "metadata": {
    "id": "ln3J9VIsy2a6"
   },
   "source": [
    "# 워드 임베딩 (doc2vec)"
   ]
  },
  {
   "cell_type": "code",
   "execution_count": null,
   "metadata": {
    "id": "47aJe7S7zVZJ"
   },
   "outputs": [],
   "source": [
    "doc_vectorizer = doc2vec.Doc2Vec(\n",
    "    dm=1,            # PV-DBOW 알고리즘으로 학습\n",
    "    dbow_words=1,    # skip-gram 방식으로 학습\n",
    "    window=10,       # window size\n",
    "    vector_size=100, # vector size\n",
    "    alpha=0.025,     # learning-rate\n",
    "    seed=1234,\n",
    "    min_count=5,     # 5회 미만으로 나온 단어 무시\n",
    "    min_alpha=0.025, # min learning-rate\n",
    "    workers=4,       # 모델 학습시 사용할 thread 개수\n",
    "    hs = 1,          # hierar chical softmax / default 0\n",
    "    negative = 10    # negative sampling / default 5\n",
    ")"
   ]
  },
  {
   "cell_type": "code",
   "execution_count": null,
   "metadata": {
    "id": "dQvAY3Vy0Q55"
   },
   "outputs": [],
   "source": [
    "TaggedDocument = namedtuple('TaggedDocument', 'words tags')\n",
    "tagged_train_docs = [TaggedDocument((c), [d]) for c, d in books[['cleand_title', 'book_title']].values]"
   ]
  },
  {
   "cell_type": "code",
   "execution_count": null,
   "metadata": {
    "colab": {
     "base_uri": "https://localhost:8080/"
    },
    "id": "QmPWz-4811Tf",
    "outputId": "814f83eb-89ac-4164-b0a5-040267ecfc4a"
   },
   "outputs": [
    {
     "name": "stdout",
     "output_type": "stream",
     "text": [
      "Doc2Vec(dm/m,d100,n10,hs,w10,mc5,s0.001,t4)\n"
     ]
    }
   ],
   "source": [
    "doc_vectorizer.build_vocab(tagged_train_docs)\n",
    "print(str(doc_vectorizer))"
   ]
  },
  {
   "cell_type": "code",
   "execution_count": null,
   "metadata": {
    "colab": {
     "base_uri": "https://localhost:8080/"
    },
    "id": "IDahmTQ25Tel",
    "outputId": "2619c6ce-10c3-4306-ca0b-6c28166a2d3e"
   },
   "outputs": [
    {
     "name": "stderr",
     "output_type": "stream",
     "text": [
      "\r",
      "  0%|          | 0/50 [00:00<?, ?it/s]/usr/local/lib/python3.7/dist-packages/ipykernel_launcher.py:3: DeprecationWarning: Call to deprecated `iter` (Attribute will be removed in 4.0.0, use self.epochs instead).\n",
      "  This is separate from the ipykernel package so we can avoid doing imports until\n",
      "100%|██████████| 50/50 [00:25<00:00,  1.95it/s]\n"
     ]
    }
   ],
   "source": [
    "for epoch in tqdm(range(50)):\n",
    "    # Doc2Vec 학습을 진행하는데 Learning rate를 계속 감소해주면서 학습을 진행해줍니다. \n",
    "    doc_vectorizer.train(tagged_train_docs, total_examples=doc_vectorizer.corpus_count, epochs=doc_vectorizer.iter)\n",
    "    doc_vectorizer.alpha -= 0.002 # decrease the learning rate\n",
    "    doc_vectorizer.min_alpha = doc_vectorizer.alpha # fix the learning rate, no decay"
   ]
  },
  {
   "cell_type": "code",
   "execution_count": null,
   "metadata": {
    "id": "9axArsIG5j80"
   },
   "outputs": [],
   "source": [
    "doc_vectorizer.docvecs.most_similar('14M 세계사 연표', topn=20)"
   ]
  },
  {
   "cell_type": "code",
   "execution_count": null,
   "metadata": {
    "id": "tOvmsQWHCtPW"
   },
   "outputs": [],
   "source": [
    "doc_vectorizer.docvecs.doctags"
   ]
  },
  {
   "cell_type": "markdown",
   "metadata": {
    "id": "Sgf_HnVmckKJ"
   },
   "source": [
    "# 워드 임베딩 (Fasttext)"
   ]
  },
  {
   "cell_type": "code",
   "execution_count": 1,
   "metadata": {},
   "outputs": [],
   "source": [
    "import fasttext\n",
    "import fasttext.util"
   ]
  },
  {
   "cell_type": "code",
   "execution_count": 3,
   "metadata": {
    "colab": {
     "base_uri": "https://localhost:8080/"
    },
    "id": "50ybMu1nft0q",
    "outputId": "dbf291e5-63de-401d-942d-7ee58294119a"
   },
   "outputs": [
    {
     "name": "stderr",
     "output_type": "stream",
     "text": [
      "Warning : `load_model` does not return WordVectorModel or SupervisedModel any more, but a `FastText` object which is very similar.\n"
     ]
    }
   ],
   "source": [
    "ko_model = fasttext.load_model(\"cc.ko.300.bin\")\n",
    "\n",
    "# 다 읽으려면 너무 시간이 오래 걸려서, 상위 10000개만 읽음.\n",
    "# ko_model = KeyedVectors.load_word2vec_format(base_dir + 'models/cc.ko.300.vec', encoding=\"ISO-8859-1\")\n",
    "# ko_model = fasttext.load_model(base_dir + \"models/cc.ko.300.vec\")\n"
   ]
  },
  {
   "cell_type": "code",
   "execution_count": 4,
   "metadata": {},
   "outputs": [
    {
     "data": {
      "text/plain": [
       "<fasttext.FastText._FastText at 0x1bcfcdd8848>"
      ]
     },
     "execution_count": 4,
     "metadata": {},
     "output_type": "execute_result"
    }
   ],
   "source": [
    "# fasttext.util.reduce_model(ko_model, 100)\n",
    "# ko_model.save_model('cc.en.100.bin')"
   ]
  },
  {
   "cell_type": "code",
   "execution_count": null,
   "metadata": {
    "colab": {
     "base_uri": "https://localhost:8080/"
    },
    "id": "c3MdvTlNnY1b",
    "outputId": "5ae1d776-0a64-4860-dae7-5810c7566d1b"
   },
   "outputs": [
    {
     "data": {
      "text/plain": [
       "[(0.8350241184234619, 'ㅈㄴ'),\n",
       " (0.8186970949172974, 'ㅆㅂ'),\n",
       " (0.807837188243866, '좆나'),\n",
       " (0.7996234893798828, '아놔'),\n",
       " (0.7992235422134399, '존나'),\n",
       " (0.7984483242034912, 'ㅁㅊ'),\n",
       " (0.7939881682395935, '시팔'),\n",
       " (0.7901992797851562, '걔도'),\n",
       " (0.7843388319015503, '머야'),\n",
       " (0.7828365564346313, '죤나')]"
      ]
     },
     "execution_count": 17,
     "metadata": {
      "tags": []
     },
     "output_type": "execute_result"
    }
   ],
   "source": [
    "# load 된 model 자체가 <class 'gensim.models.keyedvectors.Word2VecKeyedVectors'\n",
    "# print(f\"Type of model: {type(ko_model)}\")\n",
    "# print(ko_model.most_similar('teach'))\n",
    "# print(ko_model.similarity('teacher', 'teaches'))\n",
    "# ko_model.wv.vocab\n",
    "ko_model.get_nearest_neighbors('ㅅㅂ')"
   ]
  },
  {
   "cell_type": "code",
   "execution_count": null,
   "metadata": {
    "id": "w-k6IfzXlhLK"
   },
   "outputs": [],
   "source": [
    "def fasttext_vectorize(book_list):\n",
    "    book_embedding_list = []\n",
    "\n",
    "    for book in book_list:\n",
    "        book_embedding_list.append(ko_model.get_sentence_vector(book))\n",
    "    return book_embedding_list"
   ]
  },
  {
   "cell_type": "code",
   "execution_count": null,
   "metadata": {
    "colab": {
     "base_uri": "https://localhost:8080/"
    },
    "id": "t5aoUVMdmNL_",
    "outputId": "bfaff595-a5a4-4ce5-d263-3197e19c038b"
   },
   "outputs": [
    {
     "name": "stdout",
     "output_type": "stream",
     "text": [
      "88416\n"
     ]
    }
   ],
   "source": [
    "book_embedding_list = fasttext_vectorize(books[['cleaned_title', 'cleaned_description']].apply(' '.join, axis=1))\n",
    "\n",
    "print(len(book_embedding_list))"
   ]
  },
  {
   "cell_type": "code",
   "execution_count": null,
   "metadata": {
    "id": "c-EP_VrxBHEc"
   },
   "outputs": [],
   "source": [
    "np.save(base_dir + 'data/embedding_matrix.npy', book_embedding_list)"
   ]
  },
  {
   "cell_type": "code",
   "execution_count": null,
   "metadata": {
    "colab": {
     "base_uri": "https://localhost:8080/"
    },
    "id": "k4d2yMetGm5Y",
    "outputId": "933b48ce-c225-4de0-b897-666c90621fb9"
   },
   "outputs": [
    {
     "data": {
      "text/plain": [
       "100"
      ]
     },
     "execution_count": 32,
     "metadata": {
      "tags": []
     },
     "output_type": "execute_result"
    }
   ],
   "source": [
    "len(book_embedding_list[0])"
   ]
  },
  {
   "cell_type": "code",
   "execution_count": null,
   "metadata": {
    "colab": {
     "base_uri": "https://localhost:8080/"
    },
    "id": "toS4LtDNmv2P",
    "outputId": "28bf2a7d-51d1-4e90-bbb2-67dc2bb715d3"
   },
   "outputs": [
    {
     "name": "stdout",
     "output_type": "stream",
     "text": [
      "코사인 유사도 매트릭스의 크기 : (39124, 39124)\n"
     ]
    }
   ],
   "source": [
    "book_embedding_list = cosine_similarity(book_embedding_list, book_embedding_list)\n",
    "print('코사인 유사도 매트릭스의 크기 :',book_embedding_list.shape)"
   ]
  },
  {
   "cell_type": "code",
   "execution_count": null,
   "metadata": {
    "id": "Fc8WcaYqm73X"
   },
   "outputs": [],
   "source": [
    "def recommendations(isbn):\n",
    "    recommended_books = books[['book_isbn','book_title', 'book_author']]\n",
    "\n",
    "    # 책의 ISBN을 입력하면 해당 제목의 인덱스를 리턴받아 idx에 저장.\n",
    "    indices = pd.Series(books.index, index = books['book_isbn']).drop_duplicates()    \n",
    "    idx = indices[isbn]\n",
    "\n",
    "    # 해당 책과 다른 책들의 cosine similarity 계산\n",
    "    cos_similarity = cosine_similarity([book_embedding_list[idx]], book_embedding_list)\n",
    "\n",
    "    # 입력된 책과 제목이 유사한 책 5개 선정.\n",
    "    sim_scores = list(enumerate(cos_similarity[0]))\n",
    "    sim_scores = sorted(sim_scores, key = lambda x: x[1], reverse = True)\n",
    "    sim_scores = sim_scores[1:6]\n",
    "    print(sim_scores)\n",
    "\n",
    "    # 가장 유사한 책 5권의 인덱스\n",
    "    book_indices = [i[0] for i in sim_scores]\n",
    "\n",
    "    # 전체 데이터프레임에서 해당 인덱스의 행만 추출. 5개의 행을 가진다.\n",
    "    recommend = recommended_books.iloc[book_indices].reset_index(drop=True)\n",
    "\n",
    "    return recommend"
   ]
  },
  {
   "cell_type": "code",
   "execution_count": null,
   "metadata": {
    "colab": {
     "base_uri": "https://localhost:8080/",
     "height": 215
    },
    "id": "p3KNuGR7neoC",
    "outputId": "a9cb9a4a-7d3b-41b4-9e82-d27c72857220"
   },
   "outputs": [
    {
     "name": "stdout",
     "output_type": "stream",
     "text": [
      "[(8026, 0.98234844), (26450, 0.9823119), (42719, 0.9821646), (12555, 0.98156804), (18699, 0.9807234)]\n"
     ]
    },
    {
     "data": {
      "text/html": [
       "<div>\n",
       "<style scoped>\n",
       "    .dataframe tbody tr th:only-of-type {\n",
       "        vertical-align: middle;\n",
       "    }\n",
       "\n",
       "    .dataframe tbody tr th {\n",
       "        vertical-align: top;\n",
       "    }\n",
       "\n",
       "    .dataframe thead th {\n",
       "        text-align: right;\n",
       "    }\n",
       "</style>\n",
       "<table border=\"1\" class=\"dataframe\">\n",
       "  <thead>\n",
       "    <tr style=\"text-align: right;\">\n",
       "      <th></th>\n",
       "      <th>book_isbn</th>\n",
       "      <th>book_title</th>\n",
       "      <th>book_author</th>\n",
       "    </tr>\n",
       "  </thead>\n",
       "  <tbody>\n",
       "    <tr>\n",
       "      <th>0</th>\n",
       "      <td>9788932022505</td>\n",
       "      <td>가나</td>\n",
       "      <td>정용준 지음</td>\n",
       "    </tr>\n",
       "    <tr>\n",
       "      <th>1</th>\n",
       "      <td>9788961706889</td>\n",
       "      <td>뼈들이 노래한다</td>\n",
       "      <td>숀 탠 지음, 황윤영 옮김</td>\n",
       "    </tr>\n",
       "    <tr>\n",
       "      <th>2</th>\n",
       "      <td>9788986270433</td>\n",
       "      <td>즉흥연기</td>\n",
       "      <td>키스 존스톤 지음, 이민아 옮김</td>\n",
       "    </tr>\n",
       "    <tr>\n",
       "      <th>3</th>\n",
       "      <td>9788937484025</td>\n",
       "      <td>우스운 사랑들</td>\n",
       "      <td>밀란 쿤데라 지음, 방미경 옮김</td>\n",
       "    </tr>\n",
       "    <tr>\n",
       "      <th>4</th>\n",
       "      <td>9788954656696</td>\n",
       "      <td>무엇이든 가능하다</td>\n",
       "      <td>엘리자베스 스트라우트 지음, 정연희 옮김</td>\n",
       "    </tr>\n",
       "  </tbody>\n",
       "</table>\n",
       "</div>"
      ],
      "text/plain": [
       "       book_isbn book_title             book_author\n",
       "0  9788932022505         가나                  정용준 지음\n",
       "1  9788961706889   뼈들이 노래한다          숀 탠 지음, 황윤영 옮김\n",
       "2  9788986270433       즉흥연기       키스 존스톤 지음, 이민아 옮김\n",
       "3  9788937484025    우스운 사랑들       밀란 쿤데라 지음, 방미경 옮김\n",
       "4  9788954656696  무엇이든 가능하다  엘리자베스 스트라우트 지음, 정연희 옮김"
      ]
     },
     "execution_count": 19,
     "metadata": {
      "tags": []
     },
     "output_type": "execute_result"
    }
   ],
   "source": [
    "recommend = recommendations(9788930106924)\n",
    "recommend"
   ]
  },
  {
   "cell_type": "markdown",
   "metadata": {
    "id": "hFQ07MYpne2-"
   },
   "source": [
    "# word2vec"
   ]
  },
  {
   "cell_type": "code",
   "execution_count": null,
   "metadata": {
    "id": "8p_ymRFYchey"
   },
   "outputs": [],
   "source": [
    "# urllib.request.urlretrieve(\"https://s3.amazonaws.com/dl4j-distribution/GoogleNews-vectors-negative300.bin.gz\", filename=\"GoogleNews-vectors-negative300.bin.gz\")\n",
    "\n",
    "# word2vec_model = Word2Vec(size = 300, window=5, min_count = 2, workers = -1)\n",
    "# word2vec_model.build_vocab(corpus)\n",
    "# word2vec_model.intersect_word2vec_format('GoogleNews-vectors-negative300.bin.gz', lockf=1.0, binary=True)\n",
    "# word2vec_model.train(corpus, total_examples = word2vec_model.corpus_count, epochs = 15)\n",
    "\n",
    "model = gensim.models.Word2Vec.load(base_dir + \"models/ko.bin\")"
   ]
  },
  {
   "cell_type": "code",
   "execution_count": null,
   "metadata": {
    "colab": {
     "base_uri": "https://localhost:8080/"
    },
    "id": "pUNzjw0KU0Q1",
    "outputId": "1687cb78-c468-415e-e38d-c285c87b8e04"
   },
   "outputs": [
    {
     "name": "stdout",
     "output_type": "stream",
     "text": [
      "[('고양이', 0.7290452718734741), ('거위', 0.7185635566711426), ('토끼', 0.7056223154067993), ('멧돼지', 0.6950401067733765), ('엄마', 0.6934334635734558), ('난쟁이', 0.6806551218032837), ('한마리', 0.6770296096801758), ('아가씨', 0.6750352382659912), ('아빠', 0.6729634404182434), ('목걸이', 0.6512460708618164)]\n"
     ]
    }
   ],
   "source": [
    "result = model.wv.most_similar(\"강아지\")\n",
    "print(result)"
   ]
  },
  {
   "cell_type": "markdown",
   "metadata": {
    "id": "0tEM1UmkeJex"
   },
   "source": [
    "# 벡터화"
   ]
  },
  {
   "cell_type": "code",
   "execution_count": null,
   "metadata": {
    "id": "BlQeRRfYcpwG"
   },
   "outputs": [],
   "source": [
    "def vectors(document_list):\n",
    "    document_embedding_list = []\n",
    "\n",
    "    # 각 문서에 대해서\n",
    "    for line in document_list:\n",
    "        doc2vec = None\n",
    "        count = 0\n",
    "        for word in line.split():\n",
    "            if word in model.wv.vocab:\n",
    "                count += 1\n",
    "                # 해당 문서에 있는 모든 단어들의 벡터값을 더한다.\n",
    "                if doc2vec is None:\n",
    "                    doc2vec = model[word]\n",
    "                else:\n",
    "                    doc2vec = doc2vec + model[word]\n",
    "\n",
    "        if doc2vec is not None:\n",
    "            # 단어 벡터를 모두 더한 벡터의 값을 문서 길이로 나눠준다.\n",
    "            doc2vec = doc2vec / count\n",
    "            document_embedding_list.append(doc2vec)\n",
    "\n",
    "    # 각 문서에 대한 문서 벡터 리스트를 리턴\n",
    "    return document_embedding_list"
   ]
  },
  {
   "cell_type": "code",
   "execution_count": null,
   "metadata": {
    "colab": {
     "base_uri": "https://localhost:8080/"
    },
    "id": "wp-VQNqEeOtt",
    "outputId": "83ed9739-3ca2-468d-9d7c-5773ca275d20"
   },
   "outputs": [
    {
     "name": "stderr",
     "output_type": "stream",
     "text": [
      "/usr/local/lib/python3.7/dist-packages/ipykernel_launcher.py:13: DeprecationWarning: Call to deprecated `__getitem__` (Method will be removed in 4.0.0, use self.wv.__getitem__() instead).\n",
      "  del sys.path[0]\n",
      "/usr/local/lib/python3.7/dist-packages/ipykernel_launcher.py:15: DeprecationWarning: Call to deprecated `__getitem__` (Method will be removed in 4.0.0, use self.wv.__getitem__() instead).\n",
      "  from ipykernel import kernelapp as app\n"
     ]
    },
    {
     "name": "stdout",
     "output_type": "stream",
     "text": [
      "문서 벡터의 수 : 9851\n"
     ]
    }
   ],
   "source": [
    "document_embedding_list = vectors(books['cleaned_description'])\n",
    "print('문서 벡터의 수 :',len(document_embedding_list))"
   ]
  },
  {
   "cell_type": "markdown",
   "metadata": {
    "id": "ofXu2yfgedD_"
   },
   "source": [
    "# 코사인 유사도 계산"
   ]
  },
  {
   "cell_type": "code",
   "execution_count": null,
   "metadata": {
    "colab": {
     "base_uri": "https://localhost:8080/"
    },
    "id": "G7yx0qQOeYDs",
    "outputId": "ed756fe9-4480-495b-f522-24cbcab8c8f8"
   },
   "outputs": [
    {
     "name": "stdout",
     "output_type": "stream",
     "text": [
      "코사인 유사도 매트릭스의 크기 : (9851, 9851)\n"
     ]
    }
   ],
   "source": [
    "cosine_similarities = cosine_similarity(document_embedding_list, document_embedding_list)\n",
    "print('코사인 유사도 매트릭스의 크기 :',cosine_similarities.shape)"
   ]
  },
  {
   "cell_type": "markdown",
   "metadata": {
    "id": "FDUFc2P8ez0p"
   },
   "source": [
    "# 책 소개가 가장 유사한 책 5개 찾기"
   ]
  },
  {
   "cell_type": "code",
   "execution_count": null,
   "metadata": {
    "id": "PkBq9acbewbw"
   },
   "outputs": [],
   "source": [
    "def recommendations(isbn):\n",
    "    recommended_books = books[['book_title', 'book_author']]\n",
    "\n",
    "    # 책의 제목을 입력하면 해당 제목의 인덱스를 리턴받아 idx에 저장.\n",
    "    indices = pd.Series(books.index, index = books['book_isbn']).drop_duplicates()    \n",
    "    idx = indices[isbn]\n",
    "\n",
    "    # 입력된 책과 줄거리(document embedding)가 유사한 책 5개 선정.\n",
    "    sim_scores = list(enumerate(cosine_similarities[idx]))\n",
    "    sim_scores = sorted(sim_scores, key = lambda x: x[1], reverse = True)\n",
    "    sim_scores = sim_scores[1:6]\n",
    "\n",
    "    # 가장 유사한 책 5권의 인덱스\n",
    "    book_indices = [i[0] for i in sim_scores]\n",
    "\n",
    "    # 전체 데이터프레임에서 해당 인덱스의 행만 추출. 5개의 행을 가진다.\n",
    "    recommend = recommended_books.iloc[book_indices].reset_index(drop=True)\n",
    "\n",
    "    return recommend"
   ]
  },
  {
   "cell_type": "code",
   "execution_count": null,
   "metadata": {
    "colab": {
     "base_uri": "https://localhost:8080/",
     "height": 197
    },
    "id": "sZMVOnRjfgOr",
    "outputId": "3f13fe46-28bc-4f69-c16e-bc4130e447a6"
   },
   "outputs": [
    {
     "data": {
      "text/html": [
       "<div>\n",
       "<style scoped>\n",
       "    .dataframe tbody tr th:only-of-type {\n",
       "        vertical-align: middle;\n",
       "    }\n",
       "\n",
       "    .dataframe tbody tr th {\n",
       "        vertical-align: top;\n",
       "    }\n",
       "\n",
       "    .dataframe thead th {\n",
       "        text-align: right;\n",
       "    }\n",
       "</style>\n",
       "<table border=\"1\" class=\"dataframe\">\n",
       "  <thead>\n",
       "    <tr style=\"text-align: right;\">\n",
       "      <th></th>\n",
       "      <th>book_title</th>\n",
       "      <th>book_author</th>\n",
       "    </tr>\n",
       "  </thead>\n",
       "  <tbody>\n",
       "    <tr>\n",
       "      <th>0</th>\n",
       "      <td>원예학 (워크북 포함)</td>\n",
       "      <td>문원.전창후.이지원 지음</td>\n",
       "    </tr>\n",
       "    <tr>\n",
       "      <th>1</th>\n",
       "      <td>가족자원관리학 (워크북 포함)</td>\n",
       "      <td>김외숙.이기영 지음</td>\n",
       "    </tr>\n",
       "    <tr>\n",
       "      <th>2</th>\n",
       "      <td>글과 생각 (워크북 포함)</td>\n",
       "      <td>박종성 외 지음</td>\n",
       "    </tr>\n",
       "    <tr>\n",
       "      <th>3</th>\n",
       "      <td>작업환경측정 (워크북 포함)</td>\n",
       "      <td>박동욱 외 지음</td>\n",
       "    </tr>\n",
       "    <tr>\n",
       "      <th>4</th>\n",
       "      <td>글쓰기의 지도</td>\n",
       "      <td>한수영 지음</td>\n",
       "    </tr>\n",
       "  </tbody>\n",
       "</table>\n",
       "</div>"
      ],
      "text/plain": [
       "         book_title    book_author\n",
       "0      원예학 (워크북 포함)  문원.전창후.이지원 지음\n",
       "1  가족자원관리학 (워크북 포함)     김외숙.이기영 지음\n",
       "2    글과 생각 (워크북 포함)       박종성 외 지음\n",
       "3   작업환경측정 (워크북 포함)       박동욱 외 지음\n",
       "4           글쓰기의 지도         한수영 지음"
      ]
     },
     "execution_count": 30,
     "metadata": {
      "tags": []
     },
     "output_type": "execute_result"
    }
   ],
   "source": [
    "recommend = recommendations(9788920020346)\n",
    "recommend"
   ]
  },
  {
   "cell_type": "code",
   "execution_count": null,
   "metadata": {
    "id": "tPXQZOfyfnMv"
   },
   "outputs": [],
   "source": []
  }
 ],
 "metadata": {
  "colab": {
   "collapsed_sections": [],
   "name": "recommendation_prac.ipynb",
   "provenance": []
  },
  "kernelspec": {
   "display_name": "Python 3",
   "language": "python",
   "name": "python3"
  },
  "language_info": {
   "codemirror_mode": {
    "name": "ipython",
    "version": 3
   },
   "file_extension": ".py",
   "mimetype": "text/x-python",
   "name": "python",
   "nbconvert_exporter": "python",
   "pygments_lexer": "ipython3",
   "version": "3.7.8"
  }
 },
 "nbformat": 4,
 "nbformat_minor": 1
}
