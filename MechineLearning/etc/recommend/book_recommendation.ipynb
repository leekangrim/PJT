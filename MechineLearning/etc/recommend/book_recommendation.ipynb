{
 "cells": [
  {
   "cell_type": "markdown",
   "metadata": {
    "id": "JNtDfPNyB8iY"
   },
   "source": [
    "# 구글 드라이브 연결 + 필요한 라이브러리 설치"
   ]
  },
  {
   "cell_type": "code",
   "execution_count": 1,
   "metadata": {
    "colab": {
     "base_uri": "https://localhost:8080/"
    },
    "id": "UVpSG2uLB24e",
    "outputId": "13994fdd-9448-4fa9-b5f1-ac472ed49eb5"
   },
   "outputs": [
    {
     "name": "stdout",
     "output_type": "stream",
     "text": [
      "Mounted at /gdrive\n",
      "/gdrive\n"
     ]
    }
   ],
   "source": [
    "from google.colab import drive\n",
    "drive.mount('/gdrive')\n",
    "%cd /gdrive"
   ]
  },
  {
   "cell_type": "code",
   "execution_count": 2,
   "metadata": {
    "id": "bZycBNM5CHF-"
   },
   "outputs": [],
   "source": [
    "base_dir = \"/gdrive/MyDrive/SSAFY-필드프로젝트/\""
   ]
  },
  {
   "cell_type": "code",
   "execution_count": null,
   "metadata": {
    "id": "P_GWCJAWCJ6K"
   },
   "outputs": [],
   "source": [
    "!pip install pymysql"
   ]
  },
  {
   "cell_type": "code",
   "execution_count": null,
   "metadata": {
    "id": "ltTLRfIICNnm"
   },
   "outputs": [],
   "source": [
    "!pip install fasttext"
   ]
  },
  {
   "cell_type": "code",
   "execution_count": null,
   "metadata": {
    "id": "gnmsQr87CPVK"
   },
   "outputs": [],
   "source": [
    "!pip install konlpy\n",
    "!set -x \\\n",
    "&& pip install konlpy \\\n",
    "&& curl -s https://raw.githubusercontent.com/konlpy/konlpy/master/scripts/mecab.sh | bash -x"
   ]
  },
  {
   "cell_type": "markdown",
   "metadata": {
    "id": "WIKZYXArIgcR"
   },
   "source": [
    "# 라이브러리 IMPORT"
   ]
  },
  {
   "cell_type": "code",
   "execution_count": 4,
   "metadata": {
    "id": "E5BXpgatCQ8A"
   },
   "outputs": [],
   "source": [
    "import re\n",
    "import pandas as pd\n",
    "import numpy as np\n",
    "import matplotlib.pyplot as plt\n",
    "from tqdm import tqdm\n",
    "from sklearn.metrics.pairwise import cosine_similarity"
   ]
  },
  {
   "cell_type": "markdown",
   "metadata": {
    "id": "_sSkCux8JyAJ"
   },
   "source": [
    "# 데이터 불러오기"
   ]
  },
  {
   "cell_type": "code",
   "execution_count": 5,
   "metadata": {
    "id": "Q8hOnVyeI0u4"
   },
   "outputs": [],
   "source": [
    "# 전처리된 책 데이터 불러오기\n",
    "books = pd.read_pickle(base_dir + \"data/book_data.pkl\")\n",
    "\n",
    "# 책 데이터 임베딩 처리한 데이터 불러오기\n",
    "book_embedding_list = np.load(base_dir + \"data/embedding_matrix.npy\")"
   ]
  },
  {
   "cell_type": "code",
   "execution_count": 6,
   "metadata": {
    "colab": {
     "base_uri": "https://localhost:8080/"
    },
    "id": "Cl7DOCcZJoJO",
    "outputId": "a41e5936-bbe0-4e07-a5a9-d9dff01b5091"
   },
   "outputs": [
    {
     "name": "stdout",
     "output_type": "stream",
     "text": [
      "<class 'pandas.core.frame.DataFrame'>\n",
      "RangeIndex: 88416 entries, 0 to 88415\n",
      "Data columns (total 9 columns):\n",
      " #   Column               Non-Null Count  Dtype \n",
      "---  ------               --------------  ----- \n",
      " 0   book_isbn            88416 non-null  int64 \n",
      " 1   book_title           88416 non-null  object\n",
      " 2   book_author          88416 non-null  object\n",
      " 3   book_publisher       88416 non-null  object\n",
      " 4   book_contents        88416 non-null  object\n",
      " 5   book_description     88416 non-null  object\n",
      " 6   cleaned_title        88416 non-null  object\n",
      " 7   cleaned_contents     88416 non-null  object\n",
      " 8   cleaned_description  88416 non-null  object\n",
      "dtypes: int64(1), object(8)\n",
      "memory usage: 6.1+ MB\n"
     ]
    }
   ],
   "source": [
    "books.info()"
   ]
  },
  {
   "cell_type": "code",
   "execution_count": 7,
   "metadata": {
    "colab": {
     "base_uri": "https://localhost:8080/"
    },
    "id": "SN5sZB5PJqzN",
    "outputId": "fb02d907-9709-4cb6-a921-bd38571c6714"
   },
   "outputs": [
    {
     "data": {
      "text/plain": [
       "88416"
      ]
     },
     "execution_count": 7,
     "metadata": {
      "tags": []
     },
     "output_type": "execute_result"
    }
   ],
   "source": [
    "len(book_embedding_list)"
   ]
  },
  {
   "cell_type": "markdown",
   "metadata": {
    "id": "OwQqBmwXJz98"
   },
   "source": [
    "# 추천 알고리즘"
   ]
  },
  {
   "cell_type": "code",
   "execution_count": 8,
   "metadata": {
    "id": "EGQnv69sJsXH"
   },
   "outputs": [],
   "source": [
    "def recommendations(isbn):\n",
    "    recommended_books = books[['book_isbn','book_title', 'book_author']]\n",
    "\n",
    "    # 책의 ISBN을 입력하면 해당 제목의 인덱스를 리턴받아 idx에 저장.\n",
    "    indices = pd.Series(books.index, index = books['book_isbn']).drop_duplicates()    \n",
    "    idx = indices[isbn]\n",
    "\n",
    "    # 해당 책과 다른 책들의 cosine similarity 계산\n",
    "    cos_similarity = cosine_similarity([book_embedding_list[idx]], book_embedding_list)\n",
    "\n",
    "    # 입력된 책과 제목이 유사한 책 5개 선정.\n",
    "    sim_scores = list(enumerate(cos_similarity[0]))\n",
    "    sim_scores = sorted(sim_scores, key = lambda x: x[1], reverse = True)\n",
    "    sim_scores = sim_scores[1:6]\n",
    "    print(sim_scores)\n",
    "\n",
    "    # 가장 유사한 책 5권의 인덱스\n",
    "    book_indices = [i[0] for i in sim_scores]\n",
    "\n",
    "    # 전체 데이터프레임에서 해당 인덱스의 행만 추출. 5개의 행을 가진다.\n",
    "    recommend = recommended_books.iloc[book_indices].reset_index(drop=True)\n",
    "\n",
    "    return recommend"
   ]
  },
  {
   "cell_type": "code",
   "execution_count": 9,
   "metadata": {
    "colab": {
     "base_uri": "https://localhost:8080/",
     "height": 215
    },
    "id": "_8uctgbiJ7sR",
    "outputId": "13a9cd85-33c1-442a-914d-c15e5e907da7"
   },
   "outputs": [
    {
     "name": "stdout",
     "output_type": "stream",
     "text": [
      "[(8026, 0.98234844), (26450, 0.9823119), (42719, 0.9821646), (12555, 0.98156804), (18699, 0.9807234)]\n"
     ]
    },
    {
     "data": {
      "text/html": [
       "<div>\n",
       "<style scoped>\n",
       "    .dataframe tbody tr th:only-of-type {\n",
       "        vertical-align: middle;\n",
       "    }\n",
       "\n",
       "    .dataframe tbody tr th {\n",
       "        vertical-align: top;\n",
       "    }\n",
       "\n",
       "    .dataframe thead th {\n",
       "        text-align: right;\n",
       "    }\n",
       "</style>\n",
       "<table border=\"1\" class=\"dataframe\">\n",
       "  <thead>\n",
       "    <tr style=\"text-align: right;\">\n",
       "      <th></th>\n",
       "      <th>book_isbn</th>\n",
       "      <th>book_title</th>\n",
       "      <th>book_author</th>\n",
       "    </tr>\n",
       "  </thead>\n",
       "  <tbody>\n",
       "    <tr>\n",
       "      <th>0</th>\n",
       "      <td>9788932022505</td>\n",
       "      <td>가나</td>\n",
       "      <td>정용준 지음</td>\n",
       "    </tr>\n",
       "    <tr>\n",
       "      <th>1</th>\n",
       "      <td>9788961706889</td>\n",
       "      <td>뼈들이 노래한다</td>\n",
       "      <td>숀 탠 지음, 황윤영 옮김</td>\n",
       "    </tr>\n",
       "    <tr>\n",
       "      <th>2</th>\n",
       "      <td>9788986270433</td>\n",
       "      <td>즉흥연기</td>\n",
       "      <td>키스 존스톤 지음, 이민아 옮김</td>\n",
       "    </tr>\n",
       "    <tr>\n",
       "      <th>3</th>\n",
       "      <td>9788937484025</td>\n",
       "      <td>우스운 사랑들</td>\n",
       "      <td>밀란 쿤데라 지음, 방미경 옮김</td>\n",
       "    </tr>\n",
       "    <tr>\n",
       "      <th>4</th>\n",
       "      <td>9788954656696</td>\n",
       "      <td>무엇이든 가능하다</td>\n",
       "      <td>엘리자베스 스트라우트 지음, 정연희 옮김</td>\n",
       "    </tr>\n",
       "  </tbody>\n",
       "</table>\n",
       "</div>"
      ],
      "text/plain": [
       "       book_isbn book_title             book_author\n",
       "0  9788932022505         가나                  정용준 지음\n",
       "1  9788961706889   뼈들이 노래한다          숀 탠 지음, 황윤영 옮김\n",
       "2  9788986270433       즉흥연기       키스 존스톤 지음, 이민아 옮김\n",
       "3  9788937484025    우스운 사랑들       밀란 쿤데라 지음, 방미경 옮김\n",
       "4  9788954656696  무엇이든 가능하다  엘리자베스 스트라우트 지음, 정연희 옮김"
      ]
     },
     "execution_count": 9,
     "metadata": {
      "tags": []
     },
     "output_type": "execute_result"
    }
   ],
   "source": [
    "recommend = recommendations(9788930106924)\n",
    "recommend"
   ]
  },
  {
   "cell_type": "code",
   "execution_count": null,
   "metadata": {
    "id": "jwV9jF1cJ9Bn"
   },
   "outputs": [],
   "source": []
  }
 ],
 "metadata": {
  "colab": {
   "collapsed_sections": [],
   "name": "book_recommendation.ipynb",
   "provenance": []
  },
  "kernelspec": {
   "display_name": "Python 3",
   "language": "python",
   "name": "python3"
  },
  "language_info": {
   "codemirror_mode": {
    "name": "ipython",
    "version": 3
   },
   "file_extension": ".py",
   "mimetype": "text/x-python",
   "name": "python",
   "nbconvert_exporter": "python",
   "pygments_lexer": "ipython3",
   "version": "3.7.8"
  }
 },
 "nbformat": 4,
 "nbformat_minor": 1
}
