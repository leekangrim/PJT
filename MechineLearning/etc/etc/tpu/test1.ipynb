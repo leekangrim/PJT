{
 "cells": [
  {
   "cell_type": "markdown",
   "id": "german-mouse",
   "metadata": {},
   "source": [
    "# 0. 데이터 로드"
   ]
  },
  {
   "cell_type": "code",
   "execution_count": 3,
   "id": "turned-action",
   "metadata": {
    "scrolled": true
   },
   "outputs": [],
   "source": [
    "import pandas as pd\n",
    "\n",
    "\n",
    "total_data = pd.read_csv('preprocessing1_data.csv')\n",
    "total_data['preprocessed'] = total_data['preprocessed'].apply(lambda x: str(x).split())"
   ]
  },
  {
   "cell_type": "code",
   "execution_count": 4,
   "id": "inclusive-pulse",
   "metadata": {},
   "outputs": [
    {
     "name": "stdout",
     "output_type": "stream",
     "text": [
      "313471\n",
      "   label   count\n",
      "0      0  128187\n",
      "1      1  185284\n"
     ]
    },
    {
     "data": {
      "image/png": "[encoded data removed]",
      "text/plain": [
       "<Figure size 432x288 with 1 Axes>"
      ]
     },
     "metadata": {
      "needs_background": "light"
     },
     "output_type": "display_data"
    }
   ],
   "source": [
    "import matplotlib.pyplot as plt\n",
    "\n",
    "\n",
    "total_data['label'].value_counts().plot(kind = 'bar')\n",
    "print(len(total_data))\n",
    "print(total_data.groupby('label').size().reset_index(name = 'count'))"
   ]
  },
  {
   "cell_type": "markdown",
   "id": "rapid-equality",
   "metadata": {},
   "source": [
    "# 1. 데이터 분리"
   ]
  },
  {
   "cell_type": "code",
   "execution_count": 6,
   "id": "hundred-remains",
   "metadata": {},
   "outputs": [],
   "source": [
    "from sklearn.model_selection import train_test_split\n",
    "\n",
    "\n",
    "train_data, test_data = train_test_split(total_data, test_size = 0.2, random_state = 42)\n",
    "\n",
    "X_train = train_data['preprocessed'].values\n",
    "y_train = train_data['label'].values\n",
    "\n",
    "X_test = test_data['preprocessed'].values\n",
    "y_test = test_data['label'].values"
   ]
  },
  {
   "cell_type": "code",
   "execution_count": 7,
   "id": "collaborative-spirituality",
   "metadata": {},
   "outputs": [
    {
     "name": "stdout",
     "output_type": "stream",
     "text": [
      "250776\n",
      "   label   count\n",
      "0      0  102556\n",
      "1      1  148220\n"
     ]
    },
    {
     "data": {
      "image/png": "[encoded data removed]",
      "text/plain": [
       "<Figure size 432x288 with 1 Axes>"
      ]
     },
     "metadata": {
      "needs_background": "light"
     },
     "output_type": "display_data"
    }
   ],
   "source": [
    "train_data['label'].value_counts().plot(kind = 'bar')\n",
    "print(len(train_data))\n",
    "print(train_data.groupby('label').size().reset_index(name = 'count'))"
   ]
  },
  {
   "cell_type": "markdown",
   "id": "fixed-basket",
   "metadata": {},
   "source": [
    "# 2. 정수형 인코딩"
   ]
  },
  {
   "cell_type": "code",
   "execution_count": 8,
   "id": "latin-metallic",
   "metadata": {},
   "outputs": [],
   "source": [
    "from tensorflow.keras.preprocessing.text import Tokenizer\n",
    "\n",
    "\n",
    "def above_threshold_freq(X_train, min_freq):\n",
    "    tokenizer = Tokenizer()\n",
    "    tokenizer.fit_on_texts(X_train)\n",
    "\n",
    "    threshold = min_freq\n",
    "    \n",
    "    total_cnt = len(tokenizer.word_index)\n",
    "    rare_cnt = 0\n",
    "    total_freq = 0\n",
    "    rare_freq = 0\n",
    "\n",
    "    for key, value in tokenizer.word_counts.items():\n",
    "        total_freq += value\n",
    "        if(value < threshold):\n",
    "            rare_cnt = rare_cnt + 1\n",
    "            rare_freq = rare_freq + value\n",
    "\n",
    "    print('단어 집합(vocabulary)의 크기 :',total_cnt)\n",
    "    print('등장 빈도가 %s번 이하인 희귀 단어의 수: %s'%(threshold - 1, rare_cnt))\n",
    "    print(\"단어 집합에서 희귀 단어의 비율:\", (rare_cnt / total_cnt)*100)\n",
    "    print(\"전체 등장 빈도에서 희귀 단어 등장 빈도 비율:\", (rare_freq / total_freq)*100)\n",
    "    \n",
    "\n",
    "    vocab_size = total_cnt - rare_cnt + 2\n",
    "    print('단어 집합의 크기 :',vocab_size)\n",
    "\n",
    "\n",
    "    return vocab_size"
   ]
  },
  {
   "cell_type": "code",
   "execution_count": 9,
   "id": "sixth-joint",
   "metadata": {
    "scrolled": true
   },
   "outputs": [
    {
     "name": "stdout",
     "output_type": "stream",
     "text": [
      "단어 집합(vocabulary)의 크기 : 54663\n",
      "등장 빈도가 2번 이하인 희귀 단어의 수: 26810\n",
      "단어 집합에서 희귀 단어의 비율: 49.04597259572289\n",
      "전체 등장 빈도에서 희귀 단어 등장 빈도 비율: 1.0374138027520938\n",
      "단어 집합의 크기 : 27855\n"
     ]
    }
   ],
   "source": [
    "min_freq = 3\n",
    "vocab_size = above_threshold_freq(X_train, min_freq)"
   ]
  },
  {
   "cell_type": "code",
   "execution_count": null,
   "id": "interstate-surname",
   "metadata": {},
   "outputs": [],
   "source": [
    "tokenizer = Tokenizer(vocab_size, oov_token = 'OOV') \n",
    "tokenizer.fit_on_texts(X_train)\n",
    "\n",
    "X_train = tokenizer.texts_to_sequences(X_train)\n",
    "X_test = tokenizer.texts_to_sequences(X_test)"
   ]
  },
  {
   "cell_type": "markdown",
   "id": "tropical-positive",
   "metadata": {},
   "source": [
    "# 3. 패팅"
   ]
  },
  {
   "cell_type": "code",
   "execution_count": 11,
   "id": "mounted-conjunction",
   "metadata": {},
   "outputs": [
    {
     "name": "stdout",
     "output_type": "stream",
     "text": [
      "리뷰의 최대 길이 : 113\n",
      "리뷰의 평균 길이 : 13.172051686699811\n"
     ]
    },
    {
     "data": {
      "image/png": "[encoded data removed]",
      "text/plain": [
       "<Figure size 432x288 with 1 Axes>"
      ]
     },
     "metadata": {
      "needs_background": "light"
     },
     "output_type": "display_data"
    }
   ],
   "source": [
    "print('리뷰의 최대 길이 :',max(len(l) for l in X_train))\n",
    "print('리뷰의 평균 길이 :',sum(map(len, X_train))/len(X_train))\n",
    "plt.hist([len(s) for s in X_train], bins=50)\n",
    "plt.xlabel('length of samples')\n",
    "plt.ylabel('number of samples')\n",
    "plt.show()"
   ]
  },
  {
   "cell_type": "code",
   "execution_count": 12,
   "id": "advance-aggregate",
   "metadata": {},
   "outputs": [],
   "source": [
    "def below_threshold_len(X_train, max_len):\n",
    "    cnt = 0\n",
    "    for sent in X_train:\n",
    "        if(len(sent) <= max_len):\n",
    "            cnt = cnt + 1\n",
    "    print('전체 샘플 중 길이가 %s 이하인 샘플의 비율: %s'%(max_len, (cnt / len(X_train))*100))"
   ]
  },
  {
   "cell_type": "code",
   "execution_count": 17,
   "id": "inside-principle",
   "metadata": {
    "scrolled": true
   },
   "outputs": [
    {
     "name": "stdout",
     "output_type": "stream",
     "text": [
      "전체 샘플 중 길이가 60 이하인 샘플의 비율: 99.95649267692649\n"
     ]
    }
   ],
   "source": [
    "max_len = 60\n",
    "below_threshold_len(X_train, max_len=max_len)"
   ]
  },
  {
   "cell_type": "code",
   "execution_count": 18,
   "id": "needed-aerospace",
   "metadata": {},
   "outputs": [],
   "source": [
    "from tensorflow.keras.preprocessing.sequence import pad_sequences\n",
    "\n",
    "\n",
    "X_train = pad_sequences(X_train, maxlen = max_len)\n",
    "X_test = pad_sequences(X_test, maxlen = max_len)"
   ]
  },
  {
   "cell_type": "markdown",
   "id": "radio-producer",
   "metadata": {},
   "source": [
    "# 4. 학습"
   ]
  },
  {
   "cell_type": "code",
   "execution_count": 49,
   "id": "rental-headline",
   "metadata": {},
   "outputs": [],
   "source": [
    "from gensim.models import FastText\n",
    "ft = FastText(train_data['review'].values, size=256, window=2, min_count=1, workers=5, sg=1)"
   ]
  },
  {
   "cell_type": "code",
   "execution_count": 56,
   "id": "deluxe-wedding",
   "metadata": {},
   "outputs": [
    {
     "ename": "AttributeError",
     "evalue": "'FastText' object has no attribute 'shape'",
     "output_type": "error",
     "traceback": [
      "\u001b[1;31m---------------------------------------------------------------------------\u001b[0m",
      "\u001b[1;31mAttributeError\u001b[0m                            Traceback (most recent call last)",
      "\u001b[1;32m<ipython-input-56-e7342195419b>\u001b[0m in \u001b[0;36m<module>\u001b[1;34m\u001b[0m\n\u001b[1;32m----> 1\u001b[1;33m \u001b[0mft\u001b[0m\u001b[1;33m.\u001b[0m\u001b[0mshape\u001b[0m\u001b[1;33m(\u001b[0m\u001b[1;33m)\u001b[0m\u001b[1;33m\u001b[0m\u001b[1;33m\u001b[0m\u001b[0m\n\u001b[0m",
      "\u001b[1;31mAttributeError\u001b[0m: 'FastText' object has no attribute 'shape'"
     ]
    }
   ],
   "source": [
    "ft.shape()"
   ]
  },
  {
   "cell_type": "code",
   "execution_count": 51,
   "id": "flying-parallel",
   "metadata": {},
   "outputs": [],
   "source": [
    "import numpy as np\n",
    "\n",
    "embedding_size = 256\n",
    "embedding_matrix = np.zeros((vocab_size, embedding_size))"
   ]
  },
  {
   "cell_type": "code",
   "execution_count": null,
   "id": "guilty-endorsement",
   "metadata": {},
   "outputs": [],
   "source": [
    "for index, word in enumerate(vocabulary): #vocabulary에 있는 토큰들을 하나씩 넘겨줍니다.\n",
    "    if word in word2vec: #넘겨 받은 토큰이 word2vec에 존재하면(이미 훈련이 된 토큰이라는 뜻)\n",
    "        embedding_vector = word2vec[word] #해당 토큰에 해당하는 vector를 불러오고\n",
    "        embedding_mxtrix[i] = embedding_vector #해당 위치의 embedding_mxtrix에 저장합니다."
   ]
  },
  {
   "cell_type": "code",
   "execution_count": 46,
   "id": "sonic-tyler",
   "metadata": {},
   "outputs": [
    {
     "ename": "TypeError",
     "evalue": "The added layer must be an instance of class Layer. Found: FastText(vocab=0, size=256, alpha=0.025)",
     "output_type": "error",
     "traceback": [
      "\u001b[1;31m---------------------------------------------------------------------------\u001b[0m",
      "\u001b[1;31mTypeError\u001b[0m                                 Traceback (most recent call last)",
      "\u001b[1;32m<ipython-input-46-32543816f973>\u001b[0m in \u001b[0;36m<module>\u001b[1;34m\u001b[0m\n\u001b[0;32m     11\u001b[0m \u001b[1;33m\u001b[0m\u001b[0m\n\u001b[0;32m     12\u001b[0m \u001b[0mmodel\u001b[0m \u001b[1;33m=\u001b[0m \u001b[0mSequential\u001b[0m\u001b[1;33m(\u001b[0m\u001b[1;33m)\u001b[0m\u001b[1;33m\u001b[0m\u001b[1;33m\u001b[0m\u001b[0m\n\u001b[1;32m---> 13\u001b[1;33m \u001b[0mmodel\u001b[0m\u001b[1;33m.\u001b[0m\u001b[0madd\u001b[0m\u001b[1;33m(\u001b[0m\u001b[0mFastText\u001b[0m\u001b[1;33m(\u001b[0m\u001b[0msize\u001b[0m\u001b[1;33m=\u001b[0m\u001b[0membedding_size\u001b[0m\u001b[1;33m)\u001b[0m\u001b[1;33m)\u001b[0m\u001b[1;33m\u001b[0m\u001b[1;33m\u001b[0m\u001b[0m\n\u001b[0m\u001b[0;32m     14\u001b[0m \u001b[0mmodel\u001b[0m\u001b[1;33m.\u001b[0m\u001b[0madd\u001b[0m\u001b[1;33m(\u001b[0m\u001b[0mDropout\u001b[0m\u001b[1;33m(\u001b[0m\u001b[1;36m0.5\u001b[0m\u001b[1;33m)\u001b[0m\u001b[1;33m)\u001b[0m\u001b[1;33m\u001b[0m\u001b[1;33m\u001b[0m\u001b[0m\n\u001b[0;32m     15\u001b[0m \u001b[0mmodel\u001b[0m\u001b[1;33m.\u001b[0m\u001b[0madd\u001b[0m\u001b[1;33m(\u001b[0m\u001b[0mGRU\u001b[0m\u001b[1;33m(\u001b[0m\u001b[0mhidden_size\u001b[0m\u001b[1;33m)\u001b[0m\u001b[1;33m)\u001b[0m\u001b[1;33m\u001b[0m\u001b[1;33m\u001b[0m\u001b[0m\n",
      "\u001b[1;32mc:\\users\\multicampus\\desktop\\tf_gpu\\venv\\lib\\site-packages\\tensorflow\\python\\training\\tracking\\base.py\u001b[0m in \u001b[0;36m_method_wrapper\u001b[1;34m(self, *args, **kwargs)\u001b[0m\n\u001b[0;32m    515\u001b[0m     \u001b[0mself\u001b[0m\u001b[1;33m.\u001b[0m\u001b[0m_self_setattr_tracking\u001b[0m \u001b[1;33m=\u001b[0m \u001b[1;32mFalse\u001b[0m  \u001b[1;31m# pylint: disable=protected-access\u001b[0m\u001b[1;33m\u001b[0m\u001b[1;33m\u001b[0m\u001b[0m\n\u001b[0;32m    516\u001b[0m     \u001b[1;32mtry\u001b[0m\u001b[1;33m:\u001b[0m\u001b[1;33m\u001b[0m\u001b[1;33m\u001b[0m\u001b[0m\n\u001b[1;32m--> 517\u001b[1;33m       \u001b[0mresult\u001b[0m \u001b[1;33m=\u001b[0m \u001b[0mmethod\u001b[0m\u001b[1;33m(\u001b[0m\u001b[0mself\u001b[0m\u001b[1;33m,\u001b[0m \u001b[1;33m*\u001b[0m\u001b[0margs\u001b[0m\u001b[1;33m,\u001b[0m \u001b[1;33m**\u001b[0m\u001b[0mkwargs\u001b[0m\u001b[1;33m)\u001b[0m\u001b[1;33m\u001b[0m\u001b[1;33m\u001b[0m\u001b[0m\n\u001b[0m\u001b[0;32m    518\u001b[0m     \u001b[1;32mfinally\u001b[0m\u001b[1;33m:\u001b[0m\u001b[1;33m\u001b[0m\u001b[1;33m\u001b[0m\u001b[0m\n\u001b[0;32m    519\u001b[0m       \u001b[0mself\u001b[0m\u001b[1;33m.\u001b[0m\u001b[0m_self_setattr_tracking\u001b[0m \u001b[1;33m=\u001b[0m \u001b[0mprevious_value\u001b[0m  \u001b[1;31m# pylint: disable=protected-access\u001b[0m\u001b[1;33m\u001b[0m\u001b[1;33m\u001b[0m\u001b[0m\n",
      "\u001b[1;32mc:\\users\\multicampus\\desktop\\tf_gpu\\venv\\lib\\site-packages\\tensorflow\\python\\keras\\engine\\sequential.py\u001b[0m in \u001b[0;36madd\u001b[1;34m(self, layer)\u001b[0m\n\u001b[0;32m    182\u001b[0m       raise TypeError('The added layer must be '\n\u001b[0;32m    183\u001b[0m                       \u001b[1;34m'an instance of class Layer. '\u001b[0m\u001b[1;33m\u001b[0m\u001b[1;33m\u001b[0m\u001b[0m\n\u001b[1;32m--> 184\u001b[1;33m                       'Found: ' + str(layer))\n\u001b[0m\u001b[0;32m    185\u001b[0m \u001b[1;33m\u001b[0m\u001b[0m\n\u001b[0;32m    186\u001b[0m     \u001b[0mtf_utils\u001b[0m\u001b[1;33m.\u001b[0m\u001b[0massert_no_legacy_layers\u001b[0m\u001b[1;33m(\u001b[0m\u001b[1;33m[\u001b[0m\u001b[0mlayer\u001b[0m\u001b[1;33m]\u001b[0m\u001b[1;33m)\u001b[0m\u001b[1;33m\u001b[0m\u001b[1;33m\u001b[0m\u001b[0m\n",
      "\u001b[1;31mTypeError\u001b[0m: The added layer must be an instance of class Layer. Found: FastText(vocab=0, size=256, alpha=0.025)"
     ]
    }
   ],
   "source": [
    "from tensorflow.keras.callbacks import EarlyStopping\n",
    "from tensorflow.keras.layers import Embedding, Dense, Dropout, GRU, LSTM, Bidirectional\n",
    "from tensorflow.keras.models import Sequential\n",
    "from tensorflow.keras.callbacks import ModelCheckpoint\n",
    "import tensorflow as tf\n",
    "from gensim.models.fasttext import FastText\n",
    "\n",
    "\n",
    "embedding_size = 256\n",
    "hidden_size = 128\n",
    "\n",
    "model = Sequential()\n",
    "model.add(Embedding(vocab_size, 300,weights = [embedding_matrx], input_length = max_len))\n",
    "model.add(Dropout(0.5))\n",
    "model.add(GRU(hidden_size))\n",
    "model.add(Dropout(0.5))\n",
    "model.add(Dense(1, activation='sigmoid'))\n",
    "\n",
    "es = EarlyStopping(monitor='val_loss', mode='min', verbose=1, patience=4)\n",
    "mc = ModelCheckpoint(\n",
    "    f'./result/gru/f{min_freq}_l{max_len}_ft{embedding_size}_h{hidden_size}/best_model.h5', \n",
    "    monitor='val_acc', mode='max', verbose=1, save_best_only=True\n",
    ")\n",
    "model.compile(optimizer='rmsprop', loss='binary_crossentropy', metrics=['acc', tf.keras.metrics.Recall(), tf.keras.metrics.Precision()])"
   ]
  },
  {
   "cell_type": "code",
   "execution_count": 32,
   "id": "black-colorado",
   "metadata": {
    "scrolled": true
   },
   "outputs": [
    {
     "name": "stdout",
     "output_type": "stream",
     "text": [
      "Epoch 1/15\n",
      "791/791 [==============================] - 27s 32ms/step - loss: 0.4652 - acc: 0.7751 - recall_3: 0.8692 - precision_3: 0.7816 - val_loss: 0.3773 - val_acc: 0.8305 - val_recall_3: 0.8411 - val_precision_3: 0.8684\n",
      "\n",
      "Epoch 00001: val_acc improved from -inf to 0.83054, saving model to ./result/gru/f3_l60_e128_h128\\best_model.h5\n",
      "Epoch 2/15\n",
      "791/791 [==============================] - 26s 33ms/step - loss: 0.3587 - acc: 0.8451 - recall_3: 0.8860 - precision_3: 0.8568 - val_loss: 0.3602 - val_acc: 0.8418 - val_recall_3: 0.8833 - val_precision_3: 0.8543\n",
      "\n",
      "Epoch 00002: val_acc improved from 0.83054 to 0.84183, saving model to ./result/gru/f3_l60_e128_h128\\best_model.h5\n",
      "Epoch 3/15\n",
      "791/791 [==============================] - 27s 34ms/step - loss: 0.3384 - acc: 0.8555 - recall_3: 0.8922 - precision_3: 0.8668 - val_loss: 0.3772 - val_acc: 0.8315 - val_recall_3: 0.8094 - val_precision_3: 0.8957\n",
      "\n",
      "Epoch 00003: val_acc did not improve from 0.84183\n",
      "Epoch 4/15\n",
      "791/791 [==============================] - 27s 34ms/step - loss: 0.3272 - acc: 0.8622 - recall_3: 0.8977 - precision_3: 0.8723 - val_loss: 0.3444 - val_acc: 0.8490 - val_recall_3: 0.8760 - val_precision_3: 0.8697\n",
      "\n",
      "Epoch 00004: val_acc improved from 0.84183 to 0.84897, saving model to ./result/gru/f3_l60_e128_h128\\best_model.h5\n",
      "Epoch 5/15\n",
      "791/791 [==============================] - 27s 34ms/step - loss: 0.3165 - acc: 0.8679 - recall_3: 0.9024 - precision_3: 0.8775 - val_loss: 0.3539 - val_acc: 0.8485 - val_recall_3: 0.9176 - val_precision_3: 0.8409\n",
      "\n",
      "Epoch 00005: val_acc did not improve from 0.84897\n",
      "Epoch 6/15\n",
      "791/791 [==============================] - 27s 34ms/step - loss: 0.3062 - acc: 0.8734 - recall_3: 0.9090 - precision_3: 0.8810 - val_loss: 0.3515 - val_acc: 0.8515 - val_recall_3: 0.9015 - val_precision_3: 0.8554\n",
      "\n",
      "Epoch 00006: val_acc improved from 0.84897 to 0.85154, saving model to ./result/gru/f3_l60_e128_h128\\best_model.h5\n",
      "Epoch 7/15\n",
      "791/791 [==============================] - 28s 35ms/step - loss: 0.3000 - acc: 0.8771 - recall_3: 0.9118 - precision_3: 0.8841 - val_loss: 0.3506 - val_acc: 0.8502 - val_recall_3: 0.9077 - val_precision_3: 0.8494\n",
      "\n",
      "Epoch 00007: val_acc did not improve from 0.85154\n",
      "Epoch 8/15\n",
      "791/791 [==============================] - 27s 34ms/step - loss: 0.2914 - acc: 0.8812 - recall_3: 0.9147 - precision_3: 0.8868 - val_loss: 0.3438 - val_acc: 0.8513 - val_recall_3: 0.8997 - val_precision_3: 0.8562\n",
      "\n",
      "Epoch 00008: val_acc did not improve from 0.85154\n",
      "Epoch 9/15\n",
      "791/791 [==============================] - 28s 35ms/step - loss: 0.2808 - acc: 0.8867 - recall_3: 0.9175 - precision_3: 0.8933 - val_loss: 0.3508 - val_acc: 0.8492 - val_recall_3: 0.9108 - val_precision_3: 0.8462\n",
      "\n",
      "Epoch 00009: val_acc did not improve from 0.85154\n",
      "Epoch 10/15\n",
      "791/791 [==============================] - 27s 35ms/step - loss: 0.2737 - acc: 0.8903 - recall_3: 0.9211 - precision_3: 0.8961 - val_loss: 0.3556 - val_acc: 0.8491 - val_recall_3: 0.9138 - val_precision_3: 0.8441\n",
      "\n",
      "Epoch 00010: val_acc did not improve from 0.85154\n",
      "Epoch 11/15\n",
      "791/791 [==============================] - 28s 35ms/step - loss: 0.2662 - acc: 0.8936 - recall_3: 0.9232 - precision_3: 0.8992 - val_loss: 0.3602 - val_acc: 0.8490 - val_recall_3: 0.8692 - val_precision_3: 0.8748\n",
      "\n",
      "Epoch 00011: val_acc did not improve from 0.85154\n",
      "Epoch 12/15\n",
      "791/791 [==============================] - 28s 35ms/step - loss: 0.2625 - acc: 0.8956 - recall_3: 0.9248 - precision_3: 0.9007 - val_loss: 0.3633 - val_acc: 0.8437 - val_recall_3: 0.8586 - val_precision_3: 0.8750\n",
      "\n",
      "Epoch 00012: val_acc did not improve from 0.85154\n",
      "Epoch 00012: early stopping\n"
     ]
    }
   ],
   "source": [
    "# history = model.fit(X_train, y_train, epochs=20, callbacks=[es, mc], batch_size=60, validation_split=0.2)\n",
    "history = model.fit(X_train, y_train, epochs=15, callbacks=[mc, es], batch_size=256, validation_split=0.2)"
   ]
  },
  {
   "cell_type": "code",
   "execution_count": 33,
   "id": "protected-editor",
   "metadata": {
    "scrolled": true
   },
   "outputs": [
    {
     "data": {
      "image/png": "[encoded data removed]",
      "text/plain": [
       "<Figure size 1800x432 with 4 Axes>"
      ]
     },
     "metadata": {
      "needs_background": "light"
     },
     "output_type": "display_data"
    }
   ],
   "source": [
    "import matplotlib.pyplot as plt\n",
    "\n",
    "\n",
    "plt.figure(figsize=(25, 6))\n",
    "plt.subplot(1, 4, 1)\n",
    "plt.plot(history.history['acc'])\n",
    "plt.plot(history.history['val_acc'])\n",
    "plt.title('accuracy')\n",
    "plt.xlabel('Epoch')\n",
    "plt.ylabel('Accuracy')\n",
    "plt.legend(['Train', 'Val'], loc='upper left')\n",
    "\n",
    "plt.subplot(1, 4, 2)\n",
    "plt.plot(history.history['loss'])\n",
    "plt.plot(history.history['val_loss'])\n",
    "plt.title('Loss')\n",
    "plt.xlabel('Epoch')\n",
    "plt.ylabel('Loss')\n",
    "plt.legend(['Train', 'Val'], loc='upper left')\n",
    "\n",
    "# plt.subplot(1, 4, 3)\n",
    "# plt.plot(history.history[f'recall'])\n",
    "# plt.plot(history.history[f'val_recall'])\n",
    "# plt.title('Recall')\n",
    "# plt.xlabel('Epoch')\n",
    "# plt.ylabel('Recall')\n",
    "# plt.legend(['Train', 'Val'], loc='upper left')\n",
    "\n",
    "# plt.subplot(1, 4, 4)\n",
    "# plt.plot(history.history[f'precision'])\n",
    "# plt.plot(history.history[f'val_precision'])\n",
    "# plt.title(' Precision')\n",
    "# plt.xlabel('Epoch')\n",
    "# plt.ylabel('Precision')\n",
    "# plt.legend(['Train', 'Val'], loc='upper left')\n",
    "\n",
    "num = 3\n",
    "plt.subplot(1, 4, 3)\n",
    "plt.plot(history.history[f'recall_{num}'])\n",
    "plt.plot(history.history[f'val_recall_{num}'])\n",
    "plt.title('Recall')\n",
    "plt.xlabel('Epoch')\n",
    "plt.ylabel('Recall')\n",
    "plt.legend(['Train', 'Val'], loc='upper left')\n",
    "\n",
    "plt.subplot(1, 4, 4)\n",
    "plt.plot(history.history[f'precision_{num}'])\n",
    "plt.plot(history.history[f'val_precision_{num}'])\n",
    "plt.title(' Precision')\n",
    "plt.xlabel('Epoch')\n",
    "plt.ylabel('Precision')\n",
    "plt.legend(['Train', 'Val'], loc='upper left')\n",
    "\n",
    "plt.savefig(f'./result/gru/f{min_freq}_l{max_len}_ft{embedding_size}_h{hidden_size}/alrp.png')"
   ]
  },
  {
   "cell_type": "markdown",
   "id": "perfect-miracle",
   "metadata": {},
   "source": [
    "# 5. 평가"
   ]
  },
  {
   "cell_type": "code",
   "execution_count": 34,
   "id": "defensive-morocco",
   "metadata": {},
   "outputs": [],
   "source": [
    "from tensorflow.keras.models import load_model\n",
    "\n",
    "\n",
    "loaded_model = load_model(f'./result/gru/f{min_freq}_l{max_len}_ft{embedding_size}_h{hidden_size}/best_model.h5')"
   ]
  },
  {
   "cell_type": "code",
   "execution_count": 35,
   "id": "higher-plastic",
   "metadata": {},
   "outputs": [
    {
     "name": "stdout",
     "output_type": "stream",
     "text": [
      "1976/1976 [==============================] - 12s 6ms/step - loss: 0.3532 - acc: 0.8496 - recall_3: 0.9004 - precision_3: 0.8544\n",
      "\n",
      " 테스트 정확도: 0.8496\n"
     ]
    }
   ],
   "source": [
    "evaluate_list = loaded_model.evaluate(X_test, y_test)\n",
    "print(\"\\n 테스트 정확도: %.4f\" % evaluate_list[1])"
   ]
  },
  {
   "cell_type": "code",
   "execution_count": null,
   "id": "together-handy",
   "metadata": {},
   "outputs": [],
   "source": [
    "for eval in evaluate_list:\n",
    "    print(\"\\n 평과 결과 리스트 ?: %.4f\" % eval)"
   ]
  },
  {
   "cell_type": "code",
   "execution_count": null,
   "id": "greenhouse-river",
   "metadata": {},
   "outputs": [],
   "source": [
    "def predict_text(tokenized_reviews):\n",
    "    # 정수 인코딩\n",
    "    encoded_reviews = tokenizer.texts_to_sequences(tokenized_reviews)\n",
    "\n",
    "    # 패딩\n",
    "    padded_reviews = pad_sequences(encoded_reviews, maxlen = max_len)\n",
    "    \n",
    "    # 예측\n",
    "    scores = loaded_model.predict(padded_reviews)\n",
    "                                  \n",
    "    return scores"
   ]
  },
  {
   "cell_type": "code",
   "execution_count": null,
   "id": "hydraulic-upset",
   "metadata": {},
   "outputs": [],
   "source": [
    "test_data['score'] = predict_text(test_data['tokenized'])\n",
    "test_data['predict'] = [1 if score > 0.5 else 0 for score in test_data['score']]\n",
    "test_data['score'] = test_data['score'].apply(lambda x: int(x * 100) if x > 0.5 else int((1 - x) * 100))"
   ]
  },
  {
   "cell_type": "code",
   "execution_count": null,
   "id": "suitable-comparative",
   "metadata": {},
   "outputs": [],
   "source": [
    "_test_data = test_data[['lael', 'predict','rating','score', 'review','tokenized']]"
   ]
  },
  {
   "cell_type": "code",
   "execution_count": null,
   "id": "dress-salem",
   "metadata": {},
   "outputs": [],
   "source": [
    "positiveg_data = _test_data[_test_data['label'] == 1]\n",
    "positive_wrong_data = positiveg_data[positiveg_data['predict'] == 0]\n",
    "print(positive_wrong_data.head(5))\n",
    "\n",
    "negative_data = _test_data[_test_data['label'] == 0]\n",
    "negative_wrong_data = negative_data[negative_data['predict'] == 1]\n",
    "print(negative_wrong_data.head(5))"
   ]
  },
  {
   "cell_type": "code",
   "execution_count": null,
   "id": "iraqi-surge",
   "metadata": {},
   "outputs": [],
   "source": [
    "positive_wrong_data.to_csv(f'./result/gru/f{min_freq}_l{max_len}_e{embedding_size}_h{hidden_size}/positive_wrong_data.csv', index=False)\n",
    "negative_wrong_data.to_csv(f'./result/gru/f{min_freq}_l{max_len}_e{embedding_size}_h{hidden_size}/negative_wrong_data.csv', index=False)"
   ]
  }
 ],
 "metadata": {
  "kernelspec": {
   "display_name": "Python 3",
   "language": "python",
   "name": "python3"
  },
  "language_info": {
   "codemirror_mode": {
    "name": "ipython",
    "version": 3
   },
   "file_extension": ".py",
   "mimetype": "text/x-python",
   "name": "python",
   "nbconvert_exporter": "python",
   "pygments_lexer": "ipython3",
   "version": "3.7.8"
  }
 },
 "nbformat": 4,
 "nbformat_minor": 5
}
