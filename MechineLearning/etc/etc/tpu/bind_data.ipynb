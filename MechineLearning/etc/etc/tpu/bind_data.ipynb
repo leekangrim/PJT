{
 "cells": [
  {
   "cell_type": "markdown",
   "id": "vocal-raleigh",
   "metadata": {},
   "source": [
    "# 데이터 셋 합치기"
   ]
  },
  {
   "cell_type": "code",
   "execution_count": 1,
   "id": "level-confidentiality",
   "metadata": {},
   "outputs": [],
   "source": [
    "import pandas as pd\n",
    "import numpy as np"
   ]
  },
  {
   "cell_type": "code",
   "execution_count": 3,
   "id": "challenging-restaurant",
   "metadata": {},
   "outputs": [],
   "source": [
    "total_data = pd.read_csv('./spell_checked_data.csv')"
   ]
  },
  {
   "cell_type": "code",
   "execution_count": 9,
   "id": "cardiac-narrow",
   "metadata": {},
   "outputs": [
    {
     "data": {
      "text/html": [
       "<div>\n",
       "<style scoped>\n",
       "    .dataframe tbody tr th:only-of-type {\n",
       "        vertical-align: middle;\n",
       "    }\n",
       "\n",
       "    .dataframe tbody tr th {\n",
       "        vertical-align: top;\n",
       "    }\n",
       "\n",
       "    .dataframe thead th {\n",
       "        text-align: right;\n",
       "    }\n",
       "</style>\n",
       "<table border=\"1\" class=\"dataframe\">\n",
       "  <thead>\n",
       "    <tr style=\"text-align: right;\">\n",
       "      <th></th>\n",
       "      <th>ISBN13</th>\n",
       "      <th>rating</th>\n",
       "      <th>review</th>\n",
       "      <th>label</th>\n",
       "    </tr>\n",
       "  </thead>\n",
       "  <tbody>\n",
       "    <tr>\n",
       "      <th>0</th>\n",
       "      <td>9788960532403</td>\n",
       "      <td>10</td>\n",
       "      <td>두 말할 것 없이 꼭 한 번은 읽어야 할 책</td>\n",
       "      <td>1</td>\n",
       "    </tr>\n",
       "    <tr>\n",
       "      <th>1</th>\n",
       "      <td>9788991290440</td>\n",
       "      <td>10</td>\n",
       "      <td>Have to read</td>\n",
       "      <td>1</td>\n",
       "    </tr>\n",
       "    <tr>\n",
       "      <th>2</th>\n",
       "      <td>9791164452705</td>\n",
       "      <td>10</td>\n",
       "      <td>초판본 걸리버 여행 기 양장! 소장용, 선물용으로 최고입니다.</td>\n",
       "      <td>1</td>\n",
       "    </tr>\n",
       "    <tr>\n",
       "      <th>3</th>\n",
       "      <td>9788971996164</td>\n",
       "      <td>10</td>\n",
       "      <td>좋은 입문서</td>\n",
       "      <td>1</td>\n",
       "    </tr>\n",
       "    <tr>\n",
       "      <th>4</th>\n",
       "      <td>9788925562599</td>\n",
       "      <td>6</td>\n",
       "      <td>소설이 당연히 그런 거겠지만 그래도 좀 아쉽다. 그냥 심심풀이 영화 한 편 본 것 ...</td>\n",
       "      <td>0</td>\n",
       "    </tr>\n",
       "  </tbody>\n",
       "</table>\n",
       "</div>"
      ],
      "text/plain": [
       "          ISBN13  rating                                             review  \\\n",
       "0  9788960532403      10                           두 말할 것 없이 꼭 한 번은 읽어야 할 책   \n",
       "1  9788991290440      10                                       Have to read   \n",
       "2  9791164452705      10                 초판본 걸리버 여행 기 양장! 소장용, 선물용으로 최고입니다.   \n",
       "3  9788971996164      10                                             좋은 입문서   \n",
       "4  9788925562599       6  소설이 당연히 그런 거겠지만 그래도 좀 아쉽다. 그냥 심심풀이 영화 한 편 본 것 ...   \n",
       "\n",
       "   label  \n",
       "0      1  \n",
       "1      1  \n",
       "2      1  \n",
       "3      1  \n",
       "4      0  "
      ]
     },
     "execution_count": 9,
     "metadata": {},
     "output_type": "execute_result"
    }
   ],
   "source": [
    "total_data.head()"
   ]
  },
  {
   "cell_type": "code",
   "execution_count": 4,
   "id": "fabulous-denial",
   "metadata": {},
   "outputs": [
    {
     "name": "stdout",
     "output_type": "stream",
     "text": [
      "211848\n"
     ]
    }
   ],
   "source": [
    "print(len(total_data))"
   ]
  },
  {
   "cell_type": "code",
   "execution_count": 5,
   "id": "disturbed-panama",
   "metadata": {},
   "outputs": [],
   "source": [
    "naver_movie_data = pd.read_table('./naver_movie_ratings.txt')"
   ]
  },
  {
   "cell_type": "code",
   "execution_count": 6,
   "id": "continuous-probe",
   "metadata": {},
   "outputs": [],
   "source": [
    "naver_movie_data.rename(columns={\"document\":\"review\"}, inplace = True)"
   ]
  },
  {
   "cell_type": "code",
   "execution_count": 10,
   "id": "accepted-radius",
   "metadata": {},
   "outputs": [],
   "source": [
    "naver_movie_data.rename(columns={\"id\":\"ISBN13\"}, inplace = True)"
   ]
  },
  {
   "cell_type": "code",
   "execution_count": 7,
   "id": "quantitative-pierre",
   "metadata": {},
   "outputs": [],
   "source": [
    "naver_movie_data['rating'] = 5"
   ]
  },
  {
   "cell_type": "code",
   "execution_count": 12,
   "id": "harmful-ethics",
   "metadata": {},
   "outputs": [],
   "source": [
    "naver_movie_data = naver_movie_data[['ISBN13', 'rating', 'review', 'label']]"
   ]
  },
  {
   "cell_type": "code",
   "execution_count": 13,
   "id": "dress-sensitivity",
   "metadata": {},
   "outputs": [
    {
     "data": {
      "text/html": [
       "<div>\n",
       "<style scoped>\n",
       "    .dataframe tbody tr th:only-of-type {\n",
       "        vertical-align: middle;\n",
       "    }\n",
       "\n",
       "    .dataframe tbody tr th {\n",
       "        vertical-align: top;\n",
       "    }\n",
       "\n",
       "    .dataframe thead th {\n",
       "        text-align: right;\n",
       "    }\n",
       "</style>\n",
       "<table border=\"1\" class=\"dataframe\">\n",
       "  <thead>\n",
       "    <tr style=\"text-align: right;\">\n",
       "      <th></th>\n",
       "      <th>ISBN13</th>\n",
       "      <th>rating</th>\n",
       "      <th>review</th>\n",
       "      <th>label</th>\n",
       "    </tr>\n",
       "  </thead>\n",
       "  <tbody>\n",
       "    <tr>\n",
       "      <th>0</th>\n",
       "      <td>8112052</td>\n",
       "      <td>5</td>\n",
       "      <td>어릴때보고 지금다시봐도 재밌어요ㅋㅋ</td>\n",
       "      <td>1</td>\n",
       "    </tr>\n",
       "    <tr>\n",
       "      <th>1</th>\n",
       "      <td>8132799</td>\n",
       "      <td>5</td>\n",
       "      <td>디자인을 배우는 학생으로, 외국디자이너와 그들이 일군 전통을 통해 발전해가는 문화산...</td>\n",
       "      <td>1</td>\n",
       "    </tr>\n",
       "    <tr>\n",
       "      <th>2</th>\n",
       "      <td>4655635</td>\n",
       "      <td>5</td>\n",
       "      <td>폴리스스토리 시리즈는 1부터 뉴까지 버릴께 하나도 없음.. 최고.</td>\n",
       "      <td>1</td>\n",
       "    </tr>\n",
       "    <tr>\n",
       "      <th>3</th>\n",
       "      <td>9251303</td>\n",
       "      <td>5</td>\n",
       "      <td>와.. 연기가 진짜 개쩔구나.. 지루할거라고 생각했는데 몰입해서 봤다.. 그래 이런...</td>\n",
       "      <td>1</td>\n",
       "    </tr>\n",
       "    <tr>\n",
       "      <th>4</th>\n",
       "      <td>10067386</td>\n",
       "      <td>5</td>\n",
       "      <td>안개 자욱한 밤하늘에 떠 있는 초승달 같은 영화.</td>\n",
       "      <td>1</td>\n",
       "    </tr>\n",
       "  </tbody>\n",
       "</table>\n",
       "</div>"
      ],
      "text/plain": [
       "     ISBN13  rating                                             review  label\n",
       "0   8112052       5                                어릴때보고 지금다시봐도 재밌어요ㅋㅋ      1\n",
       "1   8132799       5  디자인을 배우는 학생으로, 외국디자이너와 그들이 일군 전통을 통해 발전해가는 문화산...      1\n",
       "2   4655635       5               폴리스스토리 시리즈는 1부터 뉴까지 버릴께 하나도 없음.. 최고.      1\n",
       "3   9251303       5  와.. 연기가 진짜 개쩔구나.. 지루할거라고 생각했는데 몰입해서 봤다.. 그래 이런...      1\n",
       "4  10067386       5                        안개 자욱한 밤하늘에 떠 있는 초승달 같은 영화.      1"
      ]
     },
     "execution_count": 13,
     "metadata": {},
     "output_type": "execute_result"
    }
   ],
   "source": [
    "naver_movie_data.head(5)"
   ]
  },
  {
   "cell_type": "code",
   "execution_count": 32,
   "id": "cleared-diagram",
   "metadata": {
    "scrolled": true
   },
   "outputs": [],
   "source": [
    "naver_movie_data.drop(columns=[\"id\"], inplace=True)"
   ]
  },
  {
   "cell_type": "code",
   "execution_count": 34,
   "id": "proof-staff",
   "metadata": {},
   "outputs": [],
   "source": [
    "naver_movie_data = naver_movie_data[['label','rating','review']]"
   ]
  },
  {
   "cell_type": "code",
   "execution_count": 35,
   "id": "intermediate-monte",
   "metadata": {
    "scrolled": false
   },
   "outputs": [
    {
     "data": {
      "text/html": [
       "<div>\n",
       "<style scoped>\n",
       "    .dataframe tbody tr th:only-of-type {\n",
       "        vertical-align: middle;\n",
       "    }\n",
       "\n",
       "    .dataframe tbody tr th {\n",
       "        vertical-align: top;\n",
       "    }\n",
       "\n",
       "    .dataframe thead th {\n",
       "        text-align: right;\n",
       "    }\n",
       "</style>\n",
       "<table border=\"1\" class=\"dataframe\">\n",
       "  <thead>\n",
       "    <tr style=\"text-align: right;\">\n",
       "      <th></th>\n",
       "      <th>label</th>\n",
       "      <th>rating</th>\n",
       "      <th>review</th>\n",
       "    </tr>\n",
       "  </thead>\n",
       "  <tbody>\n",
       "    <tr>\n",
       "      <th>0</th>\n",
       "      <td>1</td>\n",
       "      <td>5</td>\n",
       "      <td>어릴때보고 지금다시봐도 재밌어요ㅋㅋ</td>\n",
       "    </tr>\n",
       "    <tr>\n",
       "      <th>1</th>\n",
       "      <td>1</td>\n",
       "      <td>5</td>\n",
       "      <td>디자인을 배우는 학생으로, 외국디자이너와 그들이 일군 전통을 통해 발전해가는 문화산...</td>\n",
       "    </tr>\n",
       "    <tr>\n",
       "      <th>2</th>\n",
       "      <td>1</td>\n",
       "      <td>5</td>\n",
       "      <td>폴리스스토리 시리즈는 1부터 뉴까지 버릴께 하나도 없음.. 최고.</td>\n",
       "    </tr>\n",
       "    <tr>\n",
       "      <th>3</th>\n",
       "      <td>1</td>\n",
       "      <td>5</td>\n",
       "      <td>와.. 연기가 진짜 개쩔구나.. 지루할거라고 생각했는데 몰입해서 봤다.. 그래 이런...</td>\n",
       "    </tr>\n",
       "    <tr>\n",
       "      <th>4</th>\n",
       "      <td>1</td>\n",
       "      <td>5</td>\n",
       "      <td>안개 자욱한 밤하늘에 떠 있는 초승달 같은 영화.</td>\n",
       "    </tr>\n",
       "  </tbody>\n",
       "</table>\n",
       "</div>"
      ],
      "text/plain": [
       "   label  rating                                             review\n",
       "0      1       5                                어릴때보고 지금다시봐도 재밌어요ㅋㅋ\n",
       "1      1       5  디자인을 배우는 학생으로, 외국디자이너와 그들이 일군 전통을 통해 발전해가는 문화산...\n",
       "2      1       5               폴리스스토리 시리즈는 1부터 뉴까지 버릴께 하나도 없음.. 최고.\n",
       "3      1       5  와.. 연기가 진짜 개쩔구나.. 지루할거라고 생각했는데 몰입해서 봤다.. 그래 이런...\n",
       "4      1       5                        안개 자욱한 밤하늘에 떠 있는 초승달 같은 영화."
      ]
     },
     "execution_count": 35,
     "metadata": {},
     "output_type": "execute_result"
    }
   ],
   "source": [
    "naver_movie_data.head(5)"
   ]
  },
  {
   "cell_type": "code",
   "execution_count": 15,
   "id": "serious-sixth",
   "metadata": {},
   "outputs": [],
   "source": [
    "total_data = total_data.append(naver_movie_data)"
   ]
  },
  {
   "cell_type": "code",
   "execution_count": 19,
   "id": "respiratory-overall",
   "metadata": {
    "scrolled": true
   },
   "outputs": [
    {
     "data": {
      "text/html": [
       "<div>\n",
       "<style scoped>\n",
       "    .dataframe tbody tr th:only-of-type {\n",
       "        vertical-align: middle;\n",
       "    }\n",
       "\n",
       "    .dataframe tbody tr th {\n",
       "        vertical-align: top;\n",
       "    }\n",
       "\n",
       "    .dataframe thead th {\n",
       "        text-align: right;\n",
       "    }\n",
       "</style>\n",
       "<table border=\"1\" class=\"dataframe\">\n",
       "  <thead>\n",
       "    <tr style=\"text-align: right;\">\n",
       "      <th></th>\n",
       "      <th>ISBN13</th>\n",
       "      <th>rating</th>\n",
       "      <th>review</th>\n",
       "      <th>label</th>\n",
       "    </tr>\n",
       "  </thead>\n",
       "  <tbody>\n",
       "    <tr>\n",
       "      <th>0</th>\n",
       "      <td>9788960532403</td>\n",
       "      <td>10</td>\n",
       "      <td>두 말할 것 없이 꼭 한 번은 읽어야 할 책</td>\n",
       "      <td>1</td>\n",
       "    </tr>\n",
       "    <tr>\n",
       "      <th>1</th>\n",
       "      <td>9788991290440</td>\n",
       "      <td>10</td>\n",
       "      <td>Have to read</td>\n",
       "      <td>1</td>\n",
       "    </tr>\n",
       "    <tr>\n",
       "      <th>2</th>\n",
       "      <td>9791164452705</td>\n",
       "      <td>10</td>\n",
       "      <td>초판본 걸리버 여행 기 양장! 소장용, 선물용으로 최고입니다.</td>\n",
       "      <td>1</td>\n",
       "    </tr>\n",
       "    <tr>\n",
       "      <th>3</th>\n",
       "      <td>9788971996164</td>\n",
       "      <td>10</td>\n",
       "      <td>좋은 입문서</td>\n",
       "      <td>1</td>\n",
       "    </tr>\n",
       "    <tr>\n",
       "      <th>4</th>\n",
       "      <td>9788925562599</td>\n",
       "      <td>6</td>\n",
       "      <td>소설이 당연히 그런 거겠지만 그래도 좀 아쉽다. 그냥 심심풀이 영화 한 편 본 것 ...</td>\n",
       "      <td>0</td>\n",
       "    </tr>\n",
       "  </tbody>\n",
       "</table>\n",
       "</div>"
      ],
      "text/plain": [
       "          ISBN13  rating                                             review  \\\n",
       "0  9788960532403      10                           두 말할 것 없이 꼭 한 번은 읽어야 할 책   \n",
       "1  9788991290440      10                                       Have to read   \n",
       "2  9791164452705      10                 초판본 걸리버 여행 기 양장! 소장용, 선물용으로 최고입니다.   \n",
       "3  9788971996164      10                                             좋은 입문서   \n",
       "4  9788925562599       6  소설이 당연히 그런 거겠지만 그래도 좀 아쉽다. 그냥 심심풀이 영화 한 편 본 것 ...   \n",
       "\n",
       "   label  \n",
       "0      1  \n",
       "1      1  \n",
       "2      1  \n",
       "3      1  \n",
       "4      0  "
      ]
     },
     "execution_count": 19,
     "metadata": {},
     "output_type": "execute_result"
    }
   ],
   "source": [
    "total_data.head()"
   ]
  },
  {
   "cell_type": "code",
   "execution_count": 18,
   "id": "progressive-brave",
   "metadata": {
    "scrolled": true
   },
   "outputs": [
    {
     "data": {
      "text/html": [
       "<div>\n",
       "<style scoped>\n",
       "    .dataframe tbody tr th:only-of-type {\n",
       "        vertical-align: middle;\n",
       "    }\n",
       "\n",
       "    .dataframe tbody tr th {\n",
       "        vertical-align: top;\n",
       "    }\n",
       "\n",
       "    .dataframe thead th {\n",
       "        text-align: right;\n",
       "    }\n",
       "</style>\n",
       "<table border=\"1\" class=\"dataframe\">\n",
       "  <thead>\n",
       "    <tr style=\"text-align: right;\">\n",
       "      <th></th>\n",
       "      <th>ISBN13</th>\n",
       "      <th>rating</th>\n",
       "      <th>review</th>\n",
       "      <th>label</th>\n",
       "    </tr>\n",
       "  </thead>\n",
       "  <tbody>\n",
       "    <tr>\n",
       "      <th>199995</th>\n",
       "      <td>8963373</td>\n",
       "      <td>5</td>\n",
       "      <td>포켓 몬스터 짜가 ㅡㅡ;;</td>\n",
       "      <td>0</td>\n",
       "    </tr>\n",
       "    <tr>\n",
       "      <th>199996</th>\n",
       "      <td>3302770</td>\n",
       "      <td>5</td>\n",
       "      <td>쓰.레.기</td>\n",
       "      <td>0</td>\n",
       "    </tr>\n",
       "    <tr>\n",
       "      <th>199997</th>\n",
       "      <td>5458175</td>\n",
       "      <td>5</td>\n",
       "      <td>완전 사이코영화. 마지막은 더욱더 이 영화의질을 떨어트린다.</td>\n",
       "      <td>0</td>\n",
       "    </tr>\n",
       "    <tr>\n",
       "      <th>199998</th>\n",
       "      <td>6908648</td>\n",
       "      <td>5</td>\n",
       "      <td>왜난 재미없었지 ㅠㅠ 라따뚜이 보고나서 스머프 봐서 그런가 ㅋㅋ</td>\n",
       "      <td>0</td>\n",
       "    </tr>\n",
       "    <tr>\n",
       "      <th>199999</th>\n",
       "      <td>8548411</td>\n",
       "      <td>5</td>\n",
       "      <td>포풍저그가나가신다영차영차영차</td>\n",
       "      <td>0</td>\n",
       "    </tr>\n",
       "  </tbody>\n",
       "</table>\n",
       "</div>"
      ],
      "text/plain": [
       "         ISBN13  rating                               review  label\n",
       "199995  8963373       5                       포켓 몬스터 짜가 ㅡㅡ;;      0\n",
       "199996  3302770       5                                쓰.레.기      0\n",
       "199997  5458175       5    완전 사이코영화. 마지막은 더욱더 이 영화의질을 떨어트린다.      0\n",
       "199998  6908648       5  왜난 재미없었지 ㅠㅠ 라따뚜이 보고나서 스머프 봐서 그런가 ㅋㅋ      0\n",
       "199999  8548411       5                      포풍저그가나가신다영차영차영차      0"
      ]
     },
     "execution_count": 18,
     "metadata": {},
     "output_type": "execute_result"
    }
   ],
   "source": [
    "total_data.tail()"
   ]
  },
  {
   "cell_type": "code",
   "execution_count": 20,
   "id": "mounted-chambers",
   "metadata": {},
   "outputs": [
    {
     "data": {
      "text/plain": [
       "411848"
      ]
     },
     "execution_count": 20,
     "metadata": {},
     "output_type": "execute_result"
    }
   ],
   "source": [
    "len(total_data)"
   ]
  },
  {
   "cell_type": "code",
   "execution_count": 21,
   "id": "resident-exercise",
   "metadata": {},
   "outputs": [],
   "source": [
    "total_data.to_csv('./total_data0.csv', index=False)"
   ]
  },
  {
   "cell_type": "markdown",
   "id": "female-image",
   "metadata": {},
   "source": [
    "# 문장 합치고 분리하기"
   ]
  },
  {
   "cell_type": "code",
   "execution_count": 1,
   "id": "severe-writer",
   "metadata": {
    "scrolled": true
   },
   "outputs": [
    {
     "name": "stdout",
     "output_type": "stream",
     "text": [
      "317679\n"
     ]
    }
   ],
   "source": [
    "import pandas as pd\n",
    "total_data = pd.read_csv('cleansing_normalizing_data.csv')\n",
    "print(len(total_data))"
   ]
  },
  {
   "cell_type": "code",
   "execution_count": 15,
   "id": "crude-anatomy",
   "metadata": {},
   "outputs": [
    {
     "name": "stdout",
     "output_type": "stream",
     "text": [
      "317678\n"
     ]
    }
   ],
   "source": [
    "import numpy as np\n",
    "total_data.replace('', np.nan, inplace=True)\n",
    "total_data.dropna(inplace=True)\n",
    "total_data.drop_duplicates(subset=['review'], inplace=True)\n",
    "total_data.to_csv('cleansing_normalizing_data.csv', index=False)\n",
    "print(len(total_data))"
   ]
  },
  {
   "cell_type": "code",
   "execution_count": 28,
   "id": "bacterial-bolivia",
   "metadata": {},
   "outputs": [
    {
     "name": "stdout",
     "output_type": "stream",
     "text": [
      "31768\n"
     ]
    }
   ],
   "source": [
    "bind_data = ['\\n'.join(total_data['review'][i:i+10]) for i in range(0, 317678, 10)]\n",
    "print(len(bind_data))"
   ]
  },
  {
   "cell_type": "code",
   "execution_count": 30,
   "id": "through-controversy",
   "metadata": {},
   "outputs": [
    {
     "name": "stdout",
     "output_type": "stream",
     "text": [
      "317678\n"
     ]
    }
   ],
   "source": [
    "corpus = [review for review10 in bind_data for review in review10.split('\\n')]\n",
    "print(len(corpus))"
   ]
  }
 ],
 "metadata": {
  "kernelspec": {
   "display_name": "Python 3",
   "language": "python",
   "name": "python3"
  },
  "language_info": {
   "codemirror_mode": {
    "name": "ipython",
    "version": 3
   },
   "file_extension": ".py",
   "mimetype": "text/x-python",
   "name": "python",
   "nbconvert_exporter": "python",
   "pygments_lexer": "ipython3",
   "version": "3.7.8"
  }
 },
 "nbformat": 4,
 "nbformat_minor": 5
}
