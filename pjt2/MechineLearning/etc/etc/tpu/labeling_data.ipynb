{
 "cells": [
  {
   "cell_type": "code",
   "execution_count": 1,
   "id": "embedded-nursing",
   "metadata": {},
   "outputs": [],
   "source": [
    "import pandas as pd\n",
    "import numpy as np"
   ]
  },
  {
   "cell_type": "code",
   "execution_count": 10,
   "id": "decent-graphics",
   "metadata": {},
   "outputs": [
    {
     "name": "stdout",
     "output_type": "stream",
     "text": [
      "600221\n"
     ]
    }
   ],
   "source": [
    "total_data = pd.read_csv('./reviews/original_reviews.csv')\n",
    "print(len(total_data))"
   ]
  },
  {
   "cell_type": "code",
   "execution_count": 11,
   "id": "athletic-sunrise",
   "metadata": {},
   "outputs": [
    {
     "name": "stdout",
     "output_type": "stream",
     "text": [
      "491722\n"
     ]
    }
   ],
   "source": [
    "total_data = total_data[total_data['rating'] != 8]\n",
    "print(len(total_data))"
   ]
  },
  {
   "cell_type": "code",
   "execution_count": 13,
   "id": "sufficient-johns",
   "metadata": {
    "scrolled": true
   },
   "outputs": [
    {
     "name": "stdout",
     "output_type": "stream",
     "text": [
      "   label   count\n",
      "0      0   70616\n",
      "1      1  421106\n"
     ]
    }
   ],
   "source": [
    "total_data['label'] = total_data['rating'].replace([10, 6, 4, 2], [1, 0, 0, 0])\n",
    "print(total_data.groupby('label').size().reset_index(name = 'count'))"
   ]
  },
  {
   "cell_type": "code",
   "execution_count": 15,
   "id": "upset-heating",
   "metadata": {},
   "outputs": [],
   "source": [
    "total_data.to_csv('labeld_reviews.csv', index=False)"
   ]
  }
 ],
 "metadata": {
  "kernelspec": {
   "display_name": "Python 3",
   "language": "python",
   "name": "python3"
  },
  "language_info": {
   "codemirror_mode": {
    "name": "ipython",
    "version": 3
   },
   "file_extension": ".py",
   "mimetype": "text/x-python",
   "name": "python",
   "nbconvert_exporter": "python",
   "pygments_lexer": "ipython3",
   "version": "3.7.8"
  }
 },
 "nbformat": 4,
 "nbformat_minor": 5
}
