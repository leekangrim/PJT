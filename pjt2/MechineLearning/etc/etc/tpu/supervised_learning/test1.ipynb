{
 "cells": [
  {
   "cell_type": "markdown",
   "id": "delayed-quarter",
   "metadata": {},
   "source": [
    "# 1. 데이터 로드"
   ]
  },
  {
   "cell_type": "code",
   "execution_count": 1,
   "id": "chemical-script",
   "metadata": {},
   "outputs": [],
   "source": [
    "import pandas as pd\n",
    "import numpy as np\n",
    "\n",
    "total_data = pd.read_csv('rating_aladin.csv')\n",
    "total_data['rating'] = total_data['rating'].replace(8.0, np.nan) # 8점 제거\n",
    "total_data['label'] = np.select([total_data.rating >= 8.], [1], default=0)\n",
    "total_data = total_data.append(total_data)\n",
    "\n",
    "naver_movie_data = pd.read_table('rating_naver_movie.txt', names=['ISBN13', 'review', 'label'])\n",
    "naver_movie_data['label'] = naver_movie_data['label'].apply(lambda x: 1 if x == '1' else 0)\n",
    "total_data = total_data.append(naver_movie_data)"
   ]
  },
  {
   "cell_type": "code",
   "execution_count": 4,
   "id": "efficient-seven",
   "metadata": {},
   "outputs": [],
   "source": [
    "import pandas as pd\n",
    "import numpy as np\n",
    "\n",
    "total_data = pd.read_table('rating_naver_movie.txt', names=['ISBN13', 'review', 'label'])\n",
    "total_data['label'] = total_data['label'].apply(lambda x: 1 if x == '1' else 0)"
   ]
  },
  {
   "cell_type": "code",
   "execution_count": 5,
   "id": "statutory-intent",
   "metadata": {},
   "outputs": [],
   "source": [
    "# 중복 제거, null 제거, 라벨 정수형 타입 정의\n",
    "total_data.drop_duplicates(subset=['review'], inplace=True)\n",
    "total_data['review'].replace('', np.nan, inplace=True)\n",
    "total_data['review'].dropna(how = 'any', inplace=True)\n",
    "total_data = total_data.astype({'label': 'int'})"
   ]
  },
  {
   "cell_type": "code",
   "execution_count": 6,
   "id": "center-ordinance",
   "metadata": {},
   "outputs": [
    {
     "name": "stdout",
     "output_type": "stream",
     "text": [
      "194545\n",
      "   label  count\n",
      "0      0  97278\n",
      "1      1  97267\n"
     ]
    },
    {
     "data": {
      "text/plain": [
       "<AxesSubplot:>"
      ]
     },
     "execution_count": 6,
     "metadata": {},
     "output_type": "execute_result"
    },
    {
     "data": {
      "image/png": "[encoded data removed]",
      "text/plain": [
       "<Figure size 432x288 with 1 Axes>"
      ]
     },
     "metadata": {
      "needs_background": "light"
     },
     "output_type": "display_data"
    }
   ],
   "source": [
    "print(len(total_data))\n",
    "print(total_data.groupby('label').size().reset_index(name = 'count'))\n",
    "total_data['label'].value_counts().plot(kind = 'bar')"
   ]
  },
  {
   "cell_type": "markdown",
   "id": "streaming-village",
   "metadata": {},
   "source": [
    "# 2. 전처리"
   ]
  },
  {
   "cell_type": "code",
   "execution_count": 7,
   "id": "competitive-organ",
   "metadata": {},
   "outputs": [
    {
     "name": "stdout",
     "output_type": "stream",
     "text": [
      "\n",
      "어릴때보고 지금다시봐도 재밌어요ㅋㅋ\n",
      "디자인을 배우는 학생으로 외국디자이너와 그들이 일군 전통을 통해 발전해가는 문화산업이 부러웠는데 사실 우리나라에서도 그 어려운시절에 끝까지 열정을 지킨 노라노 같은 전통이있어 저와 같은 사람들이 꿈을 꾸고 이뤄나갈 수 있다는 것에 감사합니다\n",
      "폴리스스토리 시리즈는 부터 뉴까지 버릴께 하나도 없음 최고\n",
      "와 연기가 진짜 개쩔구나 지루할거라고 생각했는데 몰입해서 봤다 그래 이런게 진짜 영화지\n",
      "안개 자욱한 밤하늘에 떠 있는 초승달 같은 영화\n",
      "사랑을 해본사람이라면 처음부터 끝까지 웃을수 있는영화\n",
      "완전 감동입니다 다시봐도 감동\n",
      "개들의 전쟁 나오나요 나오면 빠로 보고 싶음\n",
      "굿\n"
     ]
    }
   ],
   "source": [
    "import re\n",
    "def clean_text(reviews):\n",
    "    corpus = []\n",
    "    for review in reviews:\n",
    "        # review = re.sub(r'[@%\\\\*=()/~#&\\+á?\\xc3\\xa1\\-\\|\\.\\:\\;\\!\\-\\,\\_\\~\\$\\'\\\"]', '',str(review)) #remove punctuation\n",
    "        # review = re.sub(r'\\d+','', str(review))# remove number\n",
    "        # review = re.sub(r'[a-z]','', str(review).lower())# remove number\n",
    "        # review = re.sub(r'<[^>]+>','',review) #remove Html tags\n",
    "        # review = re.sub(r'\\[[^>]+\\]','',review) #remove Html tags\n",
    "        # review = re.sub(r'\\{[^>]+\\}','',review) #remove Html tags\n",
    "        # review = re.sub(r'\\([^>]+\\)','',review) #remove Html tags\n",
    "\n",
    "        review = re.sub('[^ㄱ-ㅎㅏ-ㅣ가-힣\"]', ' ', str(review)) #한글, 숫자, 기본 구두점 제외\n",
    "\n",
    "        review = re.sub(r'\\s+', ' ', str(review)) #remove spaces\n",
    "        review = re.sub(r\"^\\s+\", '', str(review)) #remove space from start\n",
    "        review = re.sub(r'\\s+$', '', str(review)) #remove space from the end\n",
    "        corpus.append(review)\n",
    "    return corpus\n",
    "\n",
    "total_data['cleaned'] = clean_text(total_data['review'])\n",
    "for sent in total_data['cleaned'][:10]:\n",
    "    print(sent)"
   ]
  },
  {
   "cell_type": "code",
   "execution_count": 9,
   "id": "stuffed-jurisdiction",
   "metadata": {},
   "outputs": [],
   "source": [
    "# 외래어 사전 로드\n",
    "import pandas as pd\n",
    "lownword_data = pd.read_table('./loanwords.txt', sep='\\t', header=None)\n",
    "lines = lownword_data.values\n",
    "lownword_map = {}\n",
    "for line in lines:\n",
    "    miss_spell = line[0]\n",
    "    ori_word = line[1]\n",
    "    lownword_map[miss_spell] = ori_word\n",
    "\n",
    "\n",
    "# 외래어 정규화\n",
    "import re\n",
    "def lownword_normalize(reviews):\n",
    "    corpus = []\n",
    "    for review in reviews:\n",
    "        for lownword in lownword_map:\n",
    "            review = re.sub(lownword, lownword_map[lownword], str(review))\n",
    "        corpus.append(review)\n",
    "    return corpus\n",
    "\n",
    "\n",
    "def custom_repeat_noramlize1(review):\n",
    "    sent = review[:]\n",
    "    i = 0\n",
    "    while i < len(sent) - 1:\n",
    "        if sent[i] == sent[i + 1]:\n",
    "            sent = sent[:i] + sent[i + 1:]\n",
    "        else:\n",
    "            i += 1\n",
    "    return sent\n",
    "\n",
    "\n",
    "def my_repeat_noramlize(reviews):\n",
    "    corpus = []\n",
    "    for review in reviews:\n",
    "        normalized_sent = custom_repeat_noramlize1(str(review))\n",
    "        corpus.append(normalized_sent)\n",
    "    return corpus"
   ]
  },
  {
   "cell_type": "code",
   "execution_count": 10,
   "id": "amber-monday",
   "metadata": {},
   "outputs": [
    {
     "name": "stdout",
     "output_type": "stream",
     "text": [
      "\n",
      "어릴때보고 지금다시봐도 재밌어요ㅋㅋ\n",
      "디자인을 배우는 학생으로 외국디자이너와 그들이 일군 전통을 통해 발전해가는 문화산업이 부러웠는데 사실 우리나라에서도 그 어려운시절에 끝까지 열정을 지킨 노라노 같은 전통이있어 저와 같은 사람들이 꿈을 꾸고 이뤄나갈 수 있다는 것에 감사합니다\n",
      "폴리스스토리 시리즈는 부터 뉴까지 버릴께 하나도 없음 최고\n",
      "와 연기가 진짜 개쩔구나 지루할거라고 생각했는데 몰입해서 봤다 그래 이런게 진짜 영화지\n",
      "안개 자욱한 밤하늘에 떠 있는 초승달 같은 영화\n",
      "사랑을 해본사람이라면 처음부터 끝까지 웃을수 있는영화\n",
      "완전 감동입니다 다시봐도 감동\n",
      "개들의 전쟁 나오나요 나오면 빠로 보고 싶음\n",
      "굿\n"
     ]
    }
   ],
   "source": [
    "from soynlp.normalizer import repeat_normalize\n",
    "def nomalize(reviews):\n",
    "    corpus = []\n",
    "    for review in reviews:\n",
    "        review = repeat_normalize(review)\n",
    "        # for lownword in lownword_map:\n",
    "        #     review = re.sub(lownword, lownword_map[lownword], review)\n",
    "        corpus.append(review)\n",
    "    return corpus\n",
    "\n",
    "total_data['nomalized'] = nomalize(total_data['cleaned'])\n",
    "for sent in total_data['nomalized'][:10]:\n",
    "    print(sent)"
   ]
  },
  {
   "cell_type": "code",
   "execution_count": 11,
   "id": "altered-newman",
   "metadata": {},
   "outputs": [
    {
     "name": "stdout",
     "output_type": "stream",
     "text": [
      "\n",
      "어릴/VA+ETM 때/NNG 보/VV 고/EC 지금/MAG 다시/MAG 봐도/VV+EC 재밌/VA 어요/EF ㅋㅋ/IC\n",
      "디자인/NNG 을/JKO 배우/VV 는/ETM 학생/NNG 으로/JKB 외국/NNG 디자이너/NNG 와/JC 그/NP 들/XSN 이/JKS 일군/VV+ETM 전통/NNG 을/JKO 통해/VV+EC 발전/NNG 해/XSV+EC 가/VX 는/ETM 문화/NNG 산업/NNG 이/JKS 부러웠/VA+EP 는데/EC 사실/MAG 우리/NP 나라/NNG 에서/JKB 도/JX 그/MM 어려운/VA+ETM 시절/NNG 에/JKB 끝/NNG 까지/JX 열정/NNG 을/JKO 지킨/VV+ETM 노라노/NNP 같/VA 은/ETM 전통/NNG 이/JKS 있/VV 어/EC 저/NP 와/JKB 같/VA 은/ETM 사람/NNG 들/XSN 이/JKS 꿈/NNG 을/JKO 꾸/VV 고/EC 이뤄나갈/VV+EC+VX+ETM 수/NNB 있/VV 다는/ETM 것/NNB 에/JKB 감사/NNG 합니다/XSV+EC\n",
      "폴리스/NNP 스토리/NNG 시리즈/NNG 는/JX 부터/JX 뉴/NNG 까지/JX 버릴/VV+ETM 께/NNB 하나/NR 도/JX 없/VA 음/ETN 최고/NNG\n",
      "와/IC 연기/NNG 가/JKS 진짜/MAG 개/NNG 쩔/VV 구나/EF 지루/XR 할거/XSA+ETM+NNB+VCP 라고/EC 생각/NNG 했/XSV+EP 는데/EC 몰입/NNG 해서/XSV+EC 봤/VX+EP 다/EF 그래/IC 이런/MM 게/NNB+JKS 진짜/MAG 영화/NNG 지/VCP+EC\n",
      "안개/NNG 자욱/XR 한/XSA+ETM 밤하늘/NNG 에/JKB 떠/VV+EC 있/VX 는/ETM 초승달/NNG 같/VA 은/ETM 영화/NNG\n",
      "사랑/NNG 을/JKO 해/VV+EC 본/VX+ETM 사람/NNG 이/VCP 라면/EC 처음/NNG 부터/JX 끝/NNG 까지/JX 웃/VV 을/ETM 수/NNB 있/VV 는/ETM 영화/NNG\n",
      "완전/MAG 감동/NNG 입니다/VCP+EF 다시/MAG 봐도/VV+EC 감동/NNG\n",
      "개/NNG 들/XSN 의/JKG 전쟁/NNG 나오/VV 나요/EC 나오/VV 면/EC 빠/NNP 로/JKB 보/VV 고/EC 싶/VX 음/ETN\n",
      "굿/NNG\n"
     ]
    }
   ],
   "source": [
    "from konlpy.tag import Mecab # pip install konlpy; pip install mecab_python-0.996_ko_0.9.2_msvc-cp37-cp37m-win_amd64\n",
    "mecab = Mecab(dicpath=r\"C:\\mecab\\mecab-ko-dic\")\n",
    "def my_pos_text(reviews):\n",
    "    corpus = []\n",
    "    for review in reviews:\n",
    "        pos_tagged = ''\n",
    "        for lex, tag in mecab.pos(str(review)):\n",
    "            pos_tagged += lex + '/' + tag + ' '\n",
    "        corpus.append(pos_tagged.rstrip())\n",
    "    return corpus\n",
    "\n",
    "total_data['tokenized'] = my_pos_text(total_data['nomalized'])\n",
    "for sent in total_data['tokenized'][:10]:\n",
    "    print(sent)"
   ]
  },
  {
   "cell_type": "code",
   "execution_count": 11,
   "id": "auburn-equipment",
   "metadata": {},
   "outputs": [],
   "source": [
    "# from konlpy.tag import Mecab # pip install konlpy; pip install mecab_python-0.996_ko_0.9.2_msvc-cp37-cp37m-win_amd64\n",
    "# mecab = Mecab(dicpath=r\"C:\\mecab\\mecab-ko-dic\")\n",
    "# significant_tags = ['NNG', 'NNP', 'NNB', 'VV', 'VA', 'VX', 'MAG', 'MAJ', 'XSV', 'XSA', 'EC']\n",
    "# def pos_text(reviews):\n",
    "#     corpus = []\n",
    "#     for review in reviews:\n",
    "#         pos_tagged = ''\n",
    "#         for lex, tag in mecab.pos(str(review)):\n",
    "#             if tag in significant_tags:\n",
    "#                 pos_tagged += lex + '/' + tag + ' '\n",
    "#         corpus.append(pos_tagged.rstrip())\n",
    "#     return corpus\n",
    "\n",
    "# total_data['tokenized'] = pos_text(total_data['nomalized'])\n",
    "# for sent in total_data['tokenized'][:10]:\n",
    "#     print(sent)"
   ]
  },
  {
   "cell_type": "code",
   "execution_count": 13,
   "id": "electrical-taste",
   "metadata": {},
   "outputs": [],
   "source": [
    "# import re\n",
    "# p1 = re.compile('[가-힣A-Za-z0-9]+/NN. [가-힣A-Za-z0-9]+/XS.')\n",
    "# p2 = re.compile('[가-힣A-Za-z0-9]+/NN. [가-힣A-Za-z0-9]+/XSA [가-힣A-Za-z0-9]+/VX')\n",
    "# p3 = re.compile('[가-힣A-Za-z0-9]+/VV')\n",
    "# p4 = re.compile('[가-힣A-Za-z0-9]+/VX')\n",
    "# def stemming_text(reviews):\n",
    "#     corpus = []\n",
    "#     for review in reviews:\n",
    "#         ori_sent = str(review)\n",
    "#         mached_terms = re.findall(p1, ori_sent)\n",
    "#         for terms in mached_terms:\n",
    "#             ori_terms = terms\n",
    "#             modi_terms = ''\n",
    "#             for term in terms.split(' '):\n",
    "#                 lemma = term.split('/')[0]\n",
    "#                 tag = term.split('/')[-1]\n",
    "#                 modi_terms += lemma\n",
    "#             modi_terms += '다/VV'\n",
    "#             ori_sent = ori_sent.replace(ori_terms, modi_terms)\n",
    "        \n",
    "#         mached_terms = re.findall(p2, ori_sent)\n",
    "#         for terms in mached_terms:\n",
    "#             ori_terms = terms\n",
    "#             modi_terms = ''\n",
    "#             for term in terms.split(' '):\n",
    "#                 lemma = term.split('/')[0]\n",
    "#                 tag = term.split('/')[-1]\n",
    "#                 if tag != 'VX':\n",
    "#                     modi_terms += lemma\n",
    "#             modi_terms += '다/VV'\n",
    "#             ori_sent = ori_sent.replace(ori_terms, modi_terms)\n",
    "\n",
    "#         mached_terms = re.findall(p3, ori_sent)\n",
    "#         for terms in mached_terms:\n",
    "#             ori_terms = terms\n",
    "#             modi_terms = ''\n",
    "#             for term in terms.split(' '):\n",
    "#                 lemma = term.split('/')[0]\n",
    "#                 tag = term.split('/')[-1]\n",
    "#                 modi_terms += lemma\n",
    "#             if '다' != modi_terms[-1]:\n",
    "#                 modi_terms += '다'\n",
    "#             modi_terms += '/VV'\n",
    "#             ori_sent = ori_sent.replace(ori_terms, modi_terms)\n",
    "\n",
    "#         mached_terms = re.findall(p4, ori_sent)\n",
    "#         for terms in mached_terms:\n",
    "#             ori_terms = terms\n",
    "#             modi_terms = ''\n",
    "#             for term in terms.split(' '):\n",
    "#                 lemma = term.split('/')[0]\n",
    "#                 tag = term.split('/')[-1]\n",
    "#                 modi_terms += lemma\n",
    "#             if '다' != modi_terms[-1]:\n",
    "#                 modi_terms += '다'\n",
    "#             modi_terms += '/VV'\n",
    "#             ori_sent = ori_sent.replace(ori_terms, modi_terms)\n",
    "#         corpus.append(ori_sent)\n",
    "#     return corpus\n",
    "\n",
    "# total_data['stemmed'] = stemming_text(total_data['tokenized'])\n",
    "# for sent in total_data['stemmed'][:100]:\n",
    "#     print(sent)"
   ]
  },
  {
   "cell_type": "code",
   "execution_count": 12,
   "id": "increased-conclusion",
   "metadata": {},
   "outputs": [
    {
     "name": "stdout",
     "output_type": "stream",
     "text": [
      "\n",
      "어릴/VA+ETM 때/NNG 보/VV 고/EC 지금/MAG 다시/MAG 봐도/VV+EC 재밌/VA 어요/EF ㅋㅋ/IC\n",
      "디자인/NNG 을/JKO 배우/VV 는/ETM 학생/NNG 으로/JKB 외국/NNG 디자이너/NNG 와/JC 그/NP 들/XSN 이/JKS 일군/VV+ETM 전통/NNG 을/JKO 통해/VV+EC 발전/NNG 해/XSV+EC 가/VX 는/ETM 문화/NNG 산업/NNG 이/JKS 부러웠/VA+EP 는데/EC 사실/MAG 우리/NP 나라/NNG 에서/JKB 도/JX 그/MM 어려운/VA+ETM 시절/NNG 에/JKB 끝/NNG 까지/JX 열정/NNG 을/JKO 지킨/VV+ETM 노라노/NNP 같/VA 은/ETM 전통/NNG 이/JKS 있/VV 어/EC 저/NP 와/JKB 같/VA 은/ETM 사람/NNG 들/XSN 이/JKS 꿈/NNG 을/JKO 꾸/VV 고/EC 이뤄나갈/VV+EC+VX+ETM 있/VV 다는/ETM 것/NNB 에/JKB 감사/NNG 합니다/XSV+EC\n",
      "폴리스/NNP 스토리/NNG 시리즈/NNG 는/JX 부터/JX 뉴/NNG 까지/JX 버릴/VV+ETM 께/NNB 하나/NR 도/JX 없/VA 음/ETN 최고/NNG\n",
      "와/IC 연기/NNG 가/JKS 진짜/MAG 개/NNG 쩔/VV 구나/EF 지루/XR 할거/XSA+ETM+NNB+VCP 라고/EC 생각/NNG 했/XSV+EP 는데/EC 몰입/NNG 해서/XSV+EC 봤/VX+EP 다/EF 그래/IC 이런/MM 게/NNB+JKS 진짜/MAG 영화/NNG 지/VCP+EC\n",
      "안개/NNG 자욱/XR 한/XSA+ETM 밤하늘/NNG 에/JKB 떠/VV+EC 있/VX 는/ETM 초승달/NNG 같/VA 은/ETM 영화/NNG\n",
      "사랑/NNG 을/JKO 해/VV+EC 본/VX+ETM 사람/NNG 이/VCP 라면/EC 처음/NNG 부터/JX 끝/NNG 까지/JX 웃/VV 을/ETM 있/VV 는/ETM 영화/NNG\n",
      "완전/MAG 감동/NNG 입니다/VCP+EF 다시/MAG 봐도/VV+EC 감동/NNG\n",
      "개/NNG 들/XSN 의/JKG 전쟁/NNG 나오/VV 나요/EC 나오/VV 면/EC 빠/NNP 로/JKB 보/VV 고/EC 싶/VX 음/ETN\n",
      "굿/NNG\n"
     ]
    }
   ],
   "source": [
    "stopwords = ['데/NNB', '좀/MAG', '수/NNB', '등/NNB']\n",
    "def clean_stopword_text(reviews):\n",
    "    corpus = []\n",
    "    for review in reviews:\n",
    "        modi_sent = []\n",
    "        for word in str(review).split(' '):\n",
    "            if word not in stopwords:\n",
    "                modi_sent.append(word)\n",
    "        corpus.append(' '.join(modi_sent))\n",
    "    return corpus\n",
    "\n",
    "# total_data['stopword'] = clean_stopword_text(total_data['stemmed'])\n",
    "total_data['stopword'] = clean_stopword_text(total_data['tokenized'])\n",
    "for sent in total_data['stopword'][:10]:\n",
    "    print(sent)"
   ]
  },
  {
   "cell_type": "code",
   "execution_count": 13,
   "id": "amino-terrain",
   "metadata": {},
   "outputs": [
    {
     "name": "stdout",
     "output_type": "stream",
     "text": [
      "[]\n",
      "['어릴/VA+ETM', '때/NNG', '보/VV', '고/EC', '지금/MAG', '다시/MAG', '봐도/VV+EC', '재밌/VA', '어요/EF', 'ㅋㅋ/IC']\n",
      "['디자인/NNG', '을/JKO', '배우/VV', '는/ETM', '학생/NNG', '으로/JKB', '외국/NNG', '디자이너/NNG', '와/JC', '그/NP', '들/XSN', '이/JKS', '일군/VV+ETM', '전통/NNG', '을/JKO', '통해/VV+EC', '발전/NNG', '해/XSV+EC', '가/VX', '는/ETM', '문화/NNG', '산업/NNG', '이/JKS', '부러웠/VA+EP', '는데/EC', '사실/MAG', '우리/NP', '나라/NNG', '에서/JKB', '도/JX', '그/MM', '어려운/VA+ETM', '시절/NNG', '에/JKB', '끝/NNG', '까지/JX', '열정/NNG', '을/JKO', '지킨/VV+ETM', '노라노/NNP', '같/VA', '은/ETM', '전통/NNG', '이/JKS', '있/VV', '어/EC', '저/NP', '와/JKB', '같/VA', '은/ETM', '사람/NNG', '들/XSN', '이/JKS', '꿈/NNG', '을/JKO', '꾸/VV', '고/EC', '이뤄나갈/VV+EC+VX+ETM', '있/VV', '다는/ETM', '것/NNB', '에/JKB', '감사/NNG', '합니다/XSV+EC']\n",
      "['폴리스/NNP', '스토리/NNG', '시리즈/NNG', '는/JX', '부터/JX', '뉴/NNG', '까지/JX', '버릴/VV+ETM', '께/NNB', '하나/NR', '도/JX', '없/VA', '음/ETN', '최고/NNG']\n",
      "['와/IC', '연기/NNG', '가/JKS', '진짜/MAG', '개/NNG', '쩔/VV', '구나/EF', '지루/XR', '할거/XSA+ETM+NNB+VCP', '라고/EC', '생각/NNG', '했/XSV+EP', '는데/EC', '몰입/NNG', '해서/XSV+EC', '봤/VX+EP', '다/EF', '그래/IC', '이런/MM', '게/NNB+JKS', '진짜/MAG', '영화/NNG', '지/VCP+EC']\n",
      "['안개/NNG', '자욱/XR', '한/XSA+ETM', '밤하늘/NNG', '에/JKB', '떠/VV+EC', '있/VX', '는/ETM', '초승달/NNG', '같/VA', '은/ETM', '영화/NNG']\n",
      "['사랑/NNG', '을/JKO', '해/VV+EC', '본/VX+ETM', '사람/NNG', '이/VCP', '라면/EC', '처음/NNG', '부터/JX', '끝/NNG', '까지/JX', '웃/VV', '을/ETM', '있/VV', '는/ETM', '영화/NNG']\n",
      "['완전/MAG', '감동/NNG', '입니다/VCP+EF', '다시/MAG', '봐도/VV+EC', '감동/NNG']\n",
      "['개/NNG', '들/XSN', '의/JKG', '전쟁/NNG', '나오/VV', '나요/EC', '나오/VV', '면/EC', '빠/NNP', '로/JKB', '보/VV', '고/EC', '싶/VX', '음/ETN']\n",
      "['굿/NNG']\n"
     ]
    }
   ],
   "source": [
    "total_data['preprocessed'] = [str(sent).split() for sent in total_data['stopword']]\n",
    "for sent in total_data['preprocessed'][:10]:\n",
    "    print(sent)"
   ]
  },
  {
   "cell_type": "markdown",
   "id": "naked-fashion",
   "metadata": {},
   "source": [
    "# 4. 훈련 데이터와 테스트 데이터 분리"
   ]
  },
  {
   "cell_type": "code",
   "execution_count": 14,
   "id": "logical-astronomy",
   "metadata": {},
   "outputs": [
    {
     "name": "stdout",
     "output_type": "stream",
     "text": [
      "145908\n",
      "   label  count\n",
      "0      0  72891\n",
      "1      1  73017\n"
     ]
    }
   ],
   "source": [
    "# 훈련 데이터와 테스트 데이터 분리\n",
    "from sklearn.model_selection import train_test_split\n",
    "train_data, test_data = train_test_split(total_data, test_size = 0.25, random_state = 42)\n",
    "\n",
    "X_train = train_data['preprocessed'].values\n",
    "y_train = train_data['label'].values\n",
    "X_test = test_data['preprocessed'].values\n",
    "y_test = test_data['label'].values\n",
    "\n",
    "print(len(train_data))\n",
    "print(train_data.groupby('label').size().reset_index(name = 'count'))"
   ]
  },
  {
   "cell_type": "markdown",
   "id": "tracked-billion",
   "metadata": {},
   "source": [
    "# 5. 정수 인코딩"
   ]
  },
  {
   "cell_type": "code",
   "execution_count": 16,
   "id": "activated-recipe",
   "metadata": {},
   "outputs": [
    {
     "name": "stdout",
     "output_type": "stream",
     "text": [
      "단어 집합(vocabulary)의 크기 : 55390\n",
      "등장 빈도가 1번 이하인 희귀 단어의 수: 22845\n",
      "단어 집합에서 희귀 단어의 비율: 41.243906842390324\n",
      "전체 등장 빈도에서 희귀 단어 등장 빈도 비율: 0.9527193475217413\n",
      "단어 집합의 크기 : 32547\n"
     ]
    }
   ],
   "source": [
    "from tensorflow.keras.preprocessing.text import Tokenizer\n",
    "def below_threshold_freq(X_train, max_freq):\n",
    "    tokenizer = Tokenizer()\n",
    "    tokenizer.fit_on_texts(X_train)\n",
    "\n",
    "    threshold = max_freq\n",
    "    \n",
    "    total_cnt = len(tokenizer.word_index)\n",
    "    rare_cnt = 0\n",
    "    total_freq = 0\n",
    "    rare_freq = 0\n",
    "\n",
    "    for key, value in tokenizer.word_counts.items():\n",
    "        total_freq += value\n",
    "        if(value < threshold):\n",
    "            rare_cnt = rare_cnt + 1\n",
    "            rare_freq = rare_freq + value\n",
    "\n",
    "    print('단어 집합(vocabulary)의 크기 :',total_cnt)\n",
    "    print('등장 빈도가 %s번 이하인 희귀 단어의 수: %s'%(threshold - 1, rare_cnt))\n",
    "    print(\"단어 집합에서 희귀 단어의 비율:\", (rare_cnt / total_cnt)*100)\n",
    "    print(\"전체 등장 빈도에서 희귀 단어 등장 빈도 비율:\", (rare_freq / total_freq)*100)\n",
    "    \n",
    "\n",
    "    vocab_size = total_cnt - rare_cnt + 2\n",
    "    print('단어 집합의 크기 :',vocab_size)\n",
    "\n",
    "\n",
    "    return vocab_size\n",
    "\n",
    "max_freq = 2\n",
    "vocab_size = below_threshold_freq(X_train, max_freq = max_freq)"
   ]
  },
  {
   "cell_type": "code",
   "execution_count": 17,
   "id": "ongoing-chocolate",
   "metadata": {},
   "outputs": [
    {
     "name": "stdout",
     "output_type": "stream",
     "text": [
      "145152\n",
      "145152\n"
     ]
    }
   ],
   "source": [
    "# 빈 샘플들을 제거\n",
    "drop_train = [index for index, sentence in enumerate(X_train) if len(sentence) < 1]\n",
    "\n",
    "X_train = np.delete(X_train, drop_train, axis=0)\n",
    "y_train = np.delete(y_train, drop_train, axis=0)\n",
    "print(len(X_train))\n",
    "print(len(y_train))"
   ]
  },
  {
   "cell_type": "code",
   "execution_count": 21,
   "id": "generous-grenada",
   "metadata": {},
   "outputs": [],
   "source": [
    "from tensorflow.keras.preprocessing.text import Tokenizer\n",
    "tokenizer = Tokenizer(vocab_size, oov_token = 'OOV') \n",
    "tokenizer.fit_on_texts(X_train)\n",
    "_X_train = tokenizer.texts_to_sequences(X_train)\n",
    "_X_test = tokenizer.texts_to_sequences(X_test)"
   ]
  },
  {
   "cell_type": "markdown",
   "id": "charming-junction",
   "metadata": {},
   "source": [
    "# 6. 패딩"
   ]
  },
  {
   "cell_type": "code",
   "execution_count": 22,
   "id": "significant-blocking",
   "metadata": {},
   "outputs": [
    {
     "name": "stdout",
     "output_type": "stream",
     "text": [
      "리뷰의 최대 길이 : 2016\n",
      "리뷰의 평균 길이 : 22.13132428366573\n"
     ]
    },
    {
     "data": {
      "image/png": "[encoded data removed]",
      "text/plain": [
       "<Figure size 432x288 with 1 Axes>"
      ]
     },
     "metadata": {
      "needs_background": "light"
     },
     "output_type": "display_data"
    }
   ],
   "source": [
    "import matplotlib.pyplot as plt\n",
    "print('리뷰의 최대 길이 :',max(len(l) for l in X_train))\n",
    "print('리뷰의 평균 길이 :',sum(map(len, X_train))/len(X_train))\n",
    "plt.hist([len(s) for s in X_train], bins=50)\n",
    "plt.xlabel('length of samples')\n",
    "plt.ylabel('number of samples')\n",
    "plt.show()"
   ]
  },
  {
   "cell_type": "code",
   "execution_count": 26,
   "id": "instructional-sending",
   "metadata": {},
   "outputs": [
    {
     "name": "stdout",
     "output_type": "stream",
     "text": [
      "전체 샘플 중 길이가 60 이하인 샘플의 비율: 93.09662264997492\n"
     ]
    }
   ],
   "source": [
    "def below_threshold_len(X_train, max_len):\n",
    "    cnt = 0\n",
    "    for sent in X_train:\n",
    "        if(len(sent) <= max_len):\n",
    "            cnt = cnt + 1\n",
    "    print('전체 샘플 중 길이가 %s 이하인 샘플의 비율: %s'%(max_len, (cnt / len(X_train))*100))\n",
    "    \n",
    "max_len = 60\n",
    "below_threshold_len(_X_train, max_len=max_len)"
   ]
  },
  {
   "cell_type": "code",
   "execution_count": 27,
   "id": "amateur-assist",
   "metadata": {},
   "outputs": [],
   "source": [
    "from tensorflow.keras.preprocessing.sequence import pad_sequences\n",
    "X_train = pad_sequences(_X_train, maxlen = max_len)\n",
    "X_test = pad_sequences(_X_test, maxlen = max_len)"
   ]
  },
  {
   "cell_type": "markdown",
   "id": "absolute-contract",
   "metadata": {},
   "source": [
    "# 7. 모델 학습"
   ]
  },
  {
   "cell_type": "code",
   "execution_count": 28,
   "id": "bearing-belief",
   "metadata": {
    "scrolled": true
   },
   "outputs": [
    {
     "name": "stdout",
     "output_type": "stream",
     "text": [
      "Epoch 1/15\n",
      "3032/3032 [==============================] - 172s 56ms/step - loss: 0.4753 - acc: 0.7755 - val_loss: 0.4113 - val_acc: 0.8193\n",
      "\n",
      "Epoch 00001: val_acc improved from -inf to 0.81930, saving model to gru_best_model.h5\n",
      "Epoch 2/15\n",
      "3032/3032 [==============================] - 176s 58ms/step - loss: 0.3858 - acc: 0.8308 - val_loss: 0.3862 - val_acc: 0.8307\n",
      "\n",
      "Epoch 00002: val_acc improved from 0.81930 to 0.83065, saving model to gru_best_model.h5\n",
      "Epoch 3/15\n",
      "3032/3032 [==============================] - 189s 62ms/step - loss: 0.3569 - acc: 0.8469 - val_loss: 0.3897 - val_acc: 0.8305\n",
      "\n",
      "Epoch 00003: val_acc did not improve from 0.83065\n",
      "Epoch 4/15\n",
      "3032/3032 [==============================] - 197s 65ms/step - loss: 0.3324 - acc: 0.8608 - val_loss: 0.3846 - val_acc: 0.8318\n",
      "\n",
      "Epoch 00004: val_acc improved from 0.83065 to 0.83182, saving model to gru_best_model.h5\n",
      "Epoch 5/15\n",
      "3032/3032 [==============================] - 198s 65ms/step - loss: 0.3066 - acc: 0.8727 - val_loss: 0.3985 - val_acc: 0.8262\n",
      "\n",
      "Epoch 00005: val_acc did not improve from 0.83182\n",
      "Epoch 6/15\n",
      "3032/3032 [==============================] - 205s 68ms/step - loss: 0.2875 - acc: 0.8830 - val_loss: 0.4021 - val_acc: 0.8253\n",
      "\n",
      "Epoch 00006: val_acc did not improve from 0.83182\n",
      "Epoch 7/15\n",
      "3032/3032 [==============================] - 199s 66ms/step - loss: 0.2663 - acc: 0.8918 - val_loss: 0.4262 - val_acc: 0.8230\n",
      "\n",
      "Epoch 00007: val_acc did not improve from 0.83182\n",
      "Epoch 8/15\n",
      "3032/3032 [==============================] - 194s 64ms/step - loss: 0.2449 - acc: 0.9018 - val_loss: 0.4457 - val_acc: 0.8164\n",
      "\n",
      "Epoch 00008: val_acc did not improve from 0.83182\n",
      "Epoch 00008: early stopping\n"
     ]
    }
   ],
   "source": [
    "# GRU 모델 구현\n",
    "from tensorflow.keras.layers import Embedding, Dense, GRU\n",
    "from tensorflow.keras.models import Sequential\n",
    "from tensorflow.keras.models import load_model\n",
    "from tensorflow.keras.callbacks import EarlyStopping, ModelCheckpoint\n",
    "\n",
    "model = Sequential()\n",
    "model.add(Embedding(vocab_size, 100))\n",
    "model.add(GRU(128))\n",
    "model.add(Dense(1, activation='sigmoid'))\n",
    "\n",
    "es = EarlyStopping(monitor='val_loss', mode='min', verbose=1, patience=4)\n",
    "mc = ModelCheckpoint('gru_best_model.h5', monitor='val_acc', mode='max', verbose=1, save_best_only=True)\n",
    "\n",
    "model.compile(optimizer='rmsprop', loss='binary_crossentropy', metrics=['acc'])\n",
    "# GRU 모델 학습\n",
    "history = model.fit(X_train, y_train, epochs=15, callbacks=[es, mc], batch_size=60, validation_split=0.2)"
   ]
  },
  {
   "cell_type": "code",
   "execution_count": 2,
   "id": "inappropriate-column",
   "metadata": {},
   "outputs": [
    {
     "ename": "NameError",
     "evalue": "name 'history' is not defined",
     "output_type": "error",
     "traceback": [
      "\u001b[1;31m---------------------------------------------------------------------------\u001b[0m",
      "\u001b[1;31mNameError\u001b[0m                                 Traceback (most recent call last)",
      "\u001b[1;32m<ipython-input-2-00ab06e1780f>\u001b[0m in \u001b[0;36m<module>\u001b[1;34m\u001b[0m\n\u001b[0;32m      2\u001b[0m \u001b[0mplt\u001b[0m\u001b[1;33m.\u001b[0m\u001b[0mfigure\u001b[0m\u001b[1;33m(\u001b[0m\u001b[0mfigsize\u001b[0m\u001b[1;33m=\u001b[0m\u001b[1;33m(\u001b[0m\u001b[1;36m25\u001b[0m\u001b[1;33m,\u001b[0m \u001b[1;36m6\u001b[0m\u001b[1;33m)\u001b[0m\u001b[1;33m)\u001b[0m\u001b[1;33m\u001b[0m\u001b[1;33m\u001b[0m\u001b[0m\n\u001b[0;32m      3\u001b[0m \u001b[0mplt\u001b[0m\u001b[1;33m.\u001b[0m\u001b[0msubplot\u001b[0m\u001b[1;33m(\u001b[0m\u001b[1;36m1\u001b[0m\u001b[1;33m,\u001b[0m \u001b[1;36m4\u001b[0m\u001b[1;33m,\u001b[0m \u001b[1;36m1\u001b[0m\u001b[1;33m)\u001b[0m\u001b[1;33m\u001b[0m\u001b[1;33m\u001b[0m\u001b[0m\n\u001b[1;32m----> 4\u001b[1;33m \u001b[0mplt\u001b[0m\u001b[1;33m.\u001b[0m\u001b[0mplot\u001b[0m\u001b[1;33m(\u001b[0m\u001b[0mhistory\u001b[0m\u001b[1;33m.\u001b[0m\u001b[0mhistory\u001b[0m\u001b[1;33m[\u001b[0m\u001b[1;34m'acc'\u001b[0m\u001b[1;33m]\u001b[0m\u001b[1;33m)\u001b[0m\u001b[1;33m\u001b[0m\u001b[1;33m\u001b[0m\u001b[0m\n\u001b[0m\u001b[0;32m      5\u001b[0m \u001b[0mplt\u001b[0m\u001b[1;33m.\u001b[0m\u001b[0mplot\u001b[0m\u001b[1;33m(\u001b[0m\u001b[0mhistory\u001b[0m\u001b[1;33m.\u001b[0m\u001b[0mhistory\u001b[0m\u001b[1;33m[\u001b[0m\u001b[1;34m'val_acc'\u001b[0m\u001b[1;33m]\u001b[0m\u001b[1;33m)\u001b[0m\u001b[1;33m\u001b[0m\u001b[1;33m\u001b[0m\u001b[0m\n\u001b[0;32m      6\u001b[0m \u001b[0mplt\u001b[0m\u001b[1;33m.\u001b[0m\u001b[0mtitle\u001b[0m\u001b[1;33m(\u001b[0m\u001b[1;34m'accuracy'\u001b[0m\u001b[1;33m)\u001b[0m\u001b[1;33m\u001b[0m\u001b[1;33m\u001b[0m\u001b[0m\n",
      "\u001b[1;31mNameError\u001b[0m: name 'history' is not defined"
     ]
    },
    {
     "data": {
      "image/png": "[encoded data removed]",
      "text/plain": [
       "<Figure size 1800x432 with 1 Axes>"
      ]
     },
     "metadata": {
      "needs_background": "light"
     },
     "output_type": "display_data"
    }
   ],
   "source": [
    "import matplotlib.pyplot as plt\n",
    "plt.figure(figsize=(25, 6))\n",
    "plt.subplot(1, 4, 1)\n",
    "plt.plot(history.history['acc'])\n",
    "plt.plot(history.history['val_acc'])\n",
    "plt.title('accuracy')\n",
    "plt.xlabel('Epoch')\n",
    "plt.ylabel('Accuracy')\n",
    "plt.legend(['Train', 'Val'], loc='upper left')\n",
    "\n",
    "plt.subplot(1, 4, 2)\n",
    "plt.plot(history.history['loss'])\n",
    "plt.plot(history.history['val_loss'])\n",
    "plt.title('Loss')\n",
    "plt.xlabel('Epoch')\n",
    "plt.ylabel('Loss')\n",
    "plt.legend(['Train', 'Val'], loc='upper left')\n",
    "\n",
    "plt.subplot(1, 4, 3)\n",
    "plt.plot(history.history['recall'])\n",
    "plt.plot(history.history['val_recall'])\n",
    "plt.title('Recall')\n",
    "plt.xlabel('Epoch')\n",
    "plt.ylabel('Recall')\n",
    "plt.legend(['Train', 'Val'], loc='upper left')\n",
    "\n",
    "plt.subplot(1, 4, 4)\n",
    "plt.plot(history.history['precision'])\n",
    "plt.plot(history.history['val_precision'])\n",
    "plt.title(' Precision')\n",
    "plt.xlabel('Epoch')\n",
    "plt.ylabel('Precision')\n",
    "plt.legend(['Train', 'Val'], loc='upper left')\n",
    "plt.show()"
   ]
  },
  {
   "cell_type": "markdown",
   "id": "biological-portugal",
   "metadata": {},
   "source": [
    "# 8. 모델 평가"
   ]
  },
  {
   "cell_type": "code",
   "execution_count": 92,
   "id": "careful-korea",
   "metadata": {},
   "outputs": [
    {
     "name": "stdout",
     "output_type": "stream",
     "text": [
      "2377/2377 [==============================] - 28s 12ms/step - loss: 0.3964 - acc: 0.8218\n",
      "\n",
      " 테스트 정확도: 0.8218\n"
     ]
    }
   ],
   "source": [
    "# GRU 모델 평가\n",
    "loaded_model = load_model('gru_best_model.h5')\n",
    "print(\"\\n 테스트 정확도: %.4f\" % (loaded_model.evaluate(X_test, y_test)[1]))"
   ]
  },
  {
   "cell_type": "markdown",
   "id": "controlled-drove",
   "metadata": {},
   "source": [
    "# 9. 모델 테스트"
   ]
  },
  {
   "cell_type": "code",
   "execution_count": 61,
   "id": "organic-scroll",
   "metadata": {},
   "outputs": [],
   "source": [
    "# from konlpy.tag import Mecab # pip install konlpy; pip install mecab_python-0.996_ko_0.9.2_msvc-cp37-cp37m-win_amd64\n",
    "# mecab = Mecab(dicpath=r\"C:\\mecab\\mecab-ko-dic\")\n",
    "# significant_tags = ['NNG', 'NNP', 'NNB', 'VV', 'VA', 'VX', 'MAG', 'MAJ', 'XSV', 'XSA']\n",
    "# def pos_tag_text(reviews):\n",
    "#     corpus = []\n",
    "#     for review in reviews:\n",
    "#         pos_tagged = ''\n",
    "#         for lex, tag in mecab.pos(str(review)):\n",
    "#             print(lex, tag )\n",
    "#             if tag in significant_tags:\n",
    "#                 pos_tagged += lex + '/' + tag + ' '\n",
    "#         corpus.append(pos_tagged.rstrip())\n",
    "#     return corpus"
   ]
  },
  {
   "cell_type": "code",
   "execution_count": 97,
   "id": "emerging-james",
   "metadata": {},
   "outputs": [],
   "source": [
    "def preprocess(reviews):\n",
    "    reviews = clean_text(reviews)\n",
    "    print(reviews)\n",
    "    \n",
    "    reviews = nomalize(reviews)\n",
    "    print(reviews)\n",
    "    \n",
    "    reviews = my_pos_text(reviews)\n",
    "    print(reviews)\n",
    "    \n",
    "    reviews = stemming_text(reviews)\n",
    "    print(reviews)\n",
    "    \n",
    "    reviews = clean_stopword_text(reviews)\n",
    "    print(reviews)\n",
    "    \n",
    "    return [str(review).split() for review in reviews]"
   ]
  },
  {
   "cell_type": "code",
   "execution_count": 98,
   "id": "endless-artist",
   "metadata": {},
   "outputs": [],
   "source": [
    "# GRU 모델 테스트\n",
    "def sentiment_predict(new_sentence):\n",
    "    # 전처리\n",
    "    new_sentence = preprocess([new_sentence])\n",
    "    new_sentence = new_sentence[0]\n",
    "\n",
    "    # 정수 인코딩, tokenizer 위에 존재\n",
    "    encoded = tokenizer.texts_to_sequences([new_sentence])\n",
    "\n",
    "    # 패딩, max_len 위에 존재\n",
    "    pad_new = pad_sequences(encoded, maxlen = max_len) \n",
    "    \n",
    "    # 예측\n",
    "#     loaded_model = load_model('gru_best_model.h5')\n",
    "    score = float(loaded_model.predict(pad_new))\n",
    "    if(score > 0.5):\n",
    "        print(\"{:.2f}% 확률로 긍정 리뷰입니다.\".format(score * 100))\n",
    "    else:\n",
    "        print(\"{:.2f}% 확률로 부정 리뷰입니다.\".format((1 - score) * 100))"
   ]
  },
  {
   "cell_type": "code",
   "execution_count": 99,
   "id": "liberal-budget",
   "metadata": {
    "scrolled": true
   },
   "outputs": [
    {
     "name": "stdout",
     "output_type": "stream",
     "text": [
      "['이게 책이냐']\n",
      "['이게 책이냐']\n",
      "['이게/NP+JKS 책/NNG 이/VCP 냐/EC']\n",
      "['이게/NP+JKS 책/NNG 이/VCP 냐/EC']\n",
      "['이게/NP+JKS 책/NNG 이/VCP 냐/EC']\n",
      "78.66% 확률로 부정 리뷰입니다.\n"
     ]
    }
   ],
   "source": [
    "sentiment_predict(\"이게 책이냐?\")"
   ]
  },
  {
   "cell_type": "code",
   "execution_count": 100,
   "id": "organized-physics",
   "metadata": {},
   "outputs": [
    {
     "name": "stdout",
     "output_type": "stream",
     "text": [
      "['이게 책이다']\n",
      "['이게 책이다']\n",
      "['이게/NP+JKS 책/NNG 이/VCP 다/EC']\n",
      "['이게/NP+JKS 책/NNG 이/VCP 다/EC']\n",
      "['이게/NP+JKS 책/NNG 이/VCP 다/EC']\n",
      "62.06% 확률로 긍정 리뷰입니다.\n"
     ]
    }
   ],
   "source": [
    "sentiment_predict(\"이게 책이다\")"
   ]
  },
  {
   "cell_type": "code",
   "execution_count": 101,
   "id": "rough-hostel",
   "metadata": {},
   "outputs": [
    {
     "name": "stdout",
     "output_type": "stream",
     "text": [
      "['괜찮습니다']\n",
      "['괜찮습니다']\n",
      "['괜찮/VA 습니다/EF']\n",
      "['괜찮/VA 습니다/EF']\n",
      "['괜찮/VA 습니다/EF']\n",
      "87.10% 확률로 긍정 리뷰입니다.\n"
     ]
    }
   ],
   "source": [
    "sentiment_predict(\"괜찮습니다.\")"
   ]
  },
  {
   "cell_type": "code",
   "execution_count": 102,
   "id": "sunrise-organizer",
   "metadata": {
    "scrolled": false
   },
   "outputs": [
    {
     "name": "stdout",
     "output_type": "stream",
     "text": [
      "['시간만 아깝네']\n",
      "['시간만 아깝네']\n",
      "['시간/NNG 만/JX 아깝/VA 네/EC']\n",
      "['시간/NNG 만/JX 아깝/VA 네/EC']\n",
      "['시간/NNG 만/JX 아깝/VA 네/EC']\n",
      "96.11% 확률로 부정 리뷰입니다.\n"
     ]
    }
   ],
   "source": [
    "sentiment_predict(\"시간만 아깝네\")"
   ]
  }
 ],
 "metadata": {
  "kernelspec": {
   "display_name": "Python 3",
   "language": "python",
   "name": "python3"
  },
  "language_info": {
   "codemirror_mode": {
    "name": "ipython",
    "version": 3
   },
   "file_extension": ".py",
   "mimetype": "text/x-python",
   "name": "python",
   "nbconvert_exporter": "python",
   "pygments_lexer": "ipython3",
   "version": "3.7.8"
  }
 },
 "nbformat": 4,
 "nbformat_minor": 5
}
