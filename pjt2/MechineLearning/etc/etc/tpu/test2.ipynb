{
 "cells": [
  {
   "cell_type": "markdown",
   "id": "german-mouse",
   "metadata": {},
   "source": [
    "# 0. 데이터 로드"
   ]
  },
  {
   "cell_type": "code",
   "execution_count": 28,
   "id": "turned-action",
   "metadata": {
    "scrolled": false
   },
   "outputs": [],
   "source": [
    "import pandas as pd\n",
    "\n",
    "\n",
    "total_data = pd.read_csv('preprocessing2_data.csv')\n",
    "total_data['preprocessed'] = total_data['preprocessed'].apply(lambda x: str(x).split())"
   ]
  },
  {
   "cell_type": "code",
   "execution_count": 2,
   "id": "static-boutique",
   "metadata": {},
   "outputs": [
    {
     "name": "stdout",
     "output_type": "stream",
     "text": [
      "313471\n",
      "   label   count\n",
      "0      0  128187\n",
      "1      1  185284\n"
     ]
    },
    {
     "data": {
      "image/png": "[encoded data removed]",
      "text/plain": [
       "<Figure size 432x288 with 1 Axes>"
      ]
     },
     "metadata": {
      "needs_background": "light"
     },
     "output_type": "display_data"
    }
   ],
   "source": [
    "total_data['label'].value_counts().plot(kind = 'bar')\n",
    "print(len(total_data))\n",
    "print(total_data.groupby('label').size().reset_index(name = 'count'))"
   ]
  },
  {
   "cell_type": "markdown",
   "id": "rapid-equality",
   "metadata": {},
   "source": [
    "# 1. 데이터 분리"
   ]
  },
  {
   "cell_type": "code",
   "execution_count": 29,
   "id": "hundred-remains",
   "metadata": {},
   "outputs": [],
   "source": [
    "from sklearn.model_selection import train_test_split\n",
    "\n",
    "\n",
    "train_data, test_data = train_test_split(total_data, test_size = 0.2, random_state = 42)\n",
    "\n",
    "X_train = train_data['preprocessed'].values\n",
    "y_train = train_data['label'].values\n",
    "\n",
    "X_test = test_data['preprocessed'].values\n",
    "y_test = test_data['label'].values"
   ]
  },
  {
   "cell_type": "code",
   "execution_count": 4,
   "id": "collaborative-spirituality",
   "metadata": {},
   "outputs": [
    {
     "name": "stdout",
     "output_type": "stream",
     "text": [
      "250776\n",
      "   label   count\n",
      "0      0  102556\n",
      "1      1  148220\n"
     ]
    },
    {
     "data": {
      "image/png": "[encoded data removed]",
      "text/plain": [
       "<Figure size 432x288 with 1 Axes>"
      ]
     },
     "metadata": {
      "needs_background": "light"
     },
     "output_type": "display_data"
    }
   ],
   "source": [
    "train_data['label'].value_counts().plot(kind = 'bar')\n",
    "print(len(train_data))\n",
    "print(train_data.groupby('label').size().reset_index(name = 'count'))"
   ]
  },
  {
   "cell_type": "markdown",
   "id": "fixed-basket",
   "metadata": {},
   "source": [
    "# 2. 정수형 인코딩"
   ]
  },
  {
   "cell_type": "code",
   "execution_count": 30,
   "id": "latin-metallic",
   "metadata": {},
   "outputs": [],
   "source": [
    "from tensorflow.keras.preprocessing.text import Tokenizer\n",
    "\n",
    "\n",
    "def above_threshold_freq(X_train, min_freq):\n",
    "    tokenizer = Tokenizer()\n",
    "    tokenizer.fit_on_texts(X_train)\n",
    "\n",
    "    threshold = min_freq\n",
    "    \n",
    "    total_cnt = len(tokenizer.word_index)\n",
    "    rare_cnt = 0\n",
    "    total_freq = 0\n",
    "    rare_freq = 0\n",
    "\n",
    "    for key, value in tokenizer.word_counts.items():\n",
    "        total_freq += value\n",
    "        if(value < threshold):\n",
    "            rare_cnt = rare_cnt + 1\n",
    "            rare_freq = rare_freq + value\n",
    "\n",
    "    print('단어 집합(vocabulary)의 크기 :',total_cnt)\n",
    "    print('등장 빈도가 %s번 이하인 희귀 단어의 수: %s'%(threshold - 1, rare_cnt))\n",
    "    print(\"단어 집합에서 희귀 단어의 비율:\", (rare_cnt / total_cnt)*100)\n",
    "    print(\"전체 등장 빈도에서 희귀 단어 등장 빈도 비율:\", (rare_freq / total_freq)*100)\n",
    "    \n",
    "\n",
    "    vocab_size = total_cnt - rare_cnt + 2\n",
    "    print('단어 집합의 크기 :',vocab_size)\n",
    "\n",
    "\n",
    "    return vocab_size"
   ]
  },
  {
   "cell_type": "code",
   "execution_count": 31,
   "id": "sixth-joint",
   "metadata": {
    "scrolled": true
   },
   "outputs": [
    {
     "name": "stdout",
     "output_type": "stream",
     "text": [
      "단어 집합(vocabulary)의 크기 : 54813\n",
      "등장 빈도가 2번 이하인 희귀 단어의 수: 26836\n",
      "단어 집합에서 희귀 단어의 비율: 48.959188513673766\n",
      "전체 등장 빈도에서 희귀 단어 등장 빈도 비율: 1.0396684802651563\n",
      "단어 집합의 크기 : 27979\n"
     ]
    }
   ],
   "source": [
    "min_freq = 3\n",
    "vocab_size = above_threshold_freq(X_train, min_freq)"
   ]
  },
  {
   "cell_type": "code",
   "execution_count": 32,
   "id": "interstate-surname",
   "metadata": {},
   "outputs": [],
   "source": [
    "tokenizer = Tokenizer(vocab_size, oov_token = 'OOV') \n",
    "tokenizer.fit_on_texts(X_train)\n",
    "\n",
    "X_train = tokenizer.texts_to_sequences(X_train)\n",
    "X_test = tokenizer.texts_to_sequences(X_test)"
   ]
  },
  {
   "cell_type": "markdown",
   "id": "tropical-positive",
   "metadata": {},
   "source": [
    "# 3. 패팅"
   ]
  },
  {
   "cell_type": "code",
   "execution_count": null,
   "id": "mounted-conjunction",
   "metadata": {},
   "outputs": [],
   "source": [
    "import matplotlib.pyplot as plt\n",
    "\n",
    "\n",
    "print('리뷰의 최대 길이 :',max(len(l) for l in X_train))\n",
    "print('리뷰의 평균 길이 :',sum(map(len, X_train))/len(X_train))\n",
    "plt.hist([len(s) for s in X_train], bins=50)\n",
    "plt.xlabel('length of samples')\n",
    "plt.ylabel('number of samples')\n",
    "plt.show()"
   ]
  },
  {
   "cell_type": "code",
   "execution_count": 33,
   "id": "advance-aggregate",
   "metadata": {},
   "outputs": [],
   "source": [
    "def below_threshold_len(X_train, max_len):\n",
    "    cnt = 0\n",
    "    for sent in X_train:\n",
    "        if(len(sent) <= max_len):\n",
    "            cnt = cnt + 1\n",
    "    print('전체 샘플 중 길이가 %s 이하인 샘플의 비율: %s'%(max_len, (cnt / len(X_train))*100))"
   ]
  },
  {
   "cell_type": "code",
   "execution_count": 34,
   "id": "inside-principle",
   "metadata": {
    "scrolled": true
   },
   "outputs": [
    {
     "name": "stdout",
     "output_type": "stream",
     "text": [
      "전체 샘플 중 길이가 60 이하인 샘플의 비율: 99.96215380692864\n"
     ]
    }
   ],
   "source": [
    "max_len = 60\n",
    "below_threshold_len(X_train, max_len=max_len)"
   ]
  },
  {
   "cell_type": "code",
   "execution_count": 35,
   "id": "needed-aerospace",
   "metadata": {},
   "outputs": [],
   "source": [
    "from tensorflow.keras.preprocessing.sequence import pad_sequences\n",
    "\n",
    "\n",
    "X_train = pad_sequences(X_train, maxlen = max_len)\n",
    "X_test = pad_sequences(X_test, maxlen = max_len)"
   ]
  },
  {
   "cell_type": "markdown",
   "id": "radio-producer",
   "metadata": {},
   "source": [
    "# 4. 학습"
   ]
  },
  {
   "cell_type": "code",
   "execution_count": 36,
   "id": "limiting-region",
   "metadata": {},
   "outputs": [],
   "source": [
    "from tensorflow.keras.layers import Embedding, Dense, GRU, LSTM, Bidirectional, Conv1D, GlobalMaxPooling1D, Dropout\n",
    "from tensorflow.keras.models import Sequential\n",
    "from tensorflow.keras.callbacks import ModelCheckpoint, EarlyStopping\n",
    "import tensorflow as tf\n",
    "from keras.optimizers import RMSprop\n",
    "\n",
    "\n",
    "embedding_size = 128\n",
    "hidden_size = 128\n",
    "\n",
    "model = Sequential()\n",
    "model.add(Embedding(vocab_size, embedding_size))\n",
    "model.add(Dropout(0.3))\n",
    "model.add(GRU(hidden_size, return_sequences=True))\n",
    "# model.add(Bidirectional(LSTM(hidden_size, return_sequences=True)))\n",
    "model.add(Dropout(0.5))\n",
    "model.add(Conv1D(256, 3, padding='valid', activation='relu'))\n",
    "model.add(GlobalMaxPooling1D())\n",
    "model.add(Dense(128, activation='relu'))\n",
    "model.add(Dropout(0.5))\n",
    "model.add(Dense(1, activation='sigmoid'))\n",
    "\n",
    "es = EarlyStopping(monitor='val_loss', mode='min', verbose=1, patience=4)\n",
    "mc = ModelCheckpoint(\n",
    "    f'./result2/gru/f{min_freq}_l{max_len}_e{embedding_size}_h{hidden_size}/best_model.h5', \n",
    "    monitor='val_acc', mode='max', verbose=1, save_best_only=True\n",
    ")\n",
    "model.compile(\n",
    "    optimizer=RMSprop(learning_rate=0.0005, rho=0.9, momentum=0.00001, epsilon=1e-7, centered=False), \n",
    "    loss='binary_crossentropy', \n",
    "    metrics=['acc', tf.keras.metrics.Recall(), tf.keras.metrics.Precision()]\n",
    ")"
   ]
  },
  {
   "cell_type": "code",
   "execution_count": 37,
   "id": "transparent-volume",
   "metadata": {},
   "outputs": [
    {
     "name": "stdout",
     "output_type": "stream",
     "text": [
      "Epoch 1/15\n",
      "785/785 [==============================] - 28s 33ms/step - loss: 0.5927 - acc: 0.6672 - recall_3: 0.9186 - precision_3: 0.6622 - val_loss: 0.4151 - val_acc: 0.8142 - val_recall_3: 0.8401 - val_precision_3: 0.8444\n",
      "\n",
      "Epoch 00001: val_acc improved from -inf to 0.81418, saving model to ./result2/gru/f3_l60_e128_h128\\best_model.h5\n",
      "Epoch 2/15\n",
      "785/785 [==============================] - 26s 33ms/step - loss: 0.4048 - acc: 0.8210 - recall_3: 0.8678 - precision_3: 0.8355 - val_loss: 0.3889 - val_acc: 0.8252 - val_recall_3: 0.8643 - val_precision_3: 0.8435\n",
      "\n",
      "Epoch 00002: val_acc improved from 0.81418 to 0.82523, saving model to ./result2/gru/f3_l60_e128_h128\\best_model.h5\n",
      "Epoch 3/15\n",
      "785/785 [==============================] - 27s 34ms/step - loss: 0.3771 - acc: 0.8369 - recall_3: 0.8821 - precision_3: 0.8470 - val_loss: 0.3767 - val_acc: 0.8323 - val_recall_3: 0.8992 - val_precision_3: 0.8307\n",
      "\n",
      "Epoch 00003: val_acc improved from 0.82523 to 0.83228, saving model to ./result2/gru/f3_l60_e128_h128\\best_model.h5\n",
      "Epoch 4/15\n",
      "785/785 [==============================] - 27s 34ms/step - loss: 0.3591 - acc: 0.8459 - recall_3: 0.8894 - precision_3: 0.8557 - val_loss: 0.3681 - val_acc: 0.8369 - val_recall_3: 0.8984 - val_precision_3: 0.8373\n",
      "\n",
      "Epoch 00004: val_acc improved from 0.83228 to 0.83693, saving model to ./result2/gru/f3_l60_e128_h128\\best_model.h5\n",
      "Epoch 5/15\n",
      "785/785 [==============================] - 27s 34ms/step - loss: 0.3447 - acc: 0.8545 - recall_3: 0.8974 - precision_3: 0.8616 - val_loss: 0.3628 - val_acc: 0.8415 - val_recall_3: 0.8873 - val_precision_3: 0.8506\n",
      "\n",
      "Epoch 00005: val_acc improved from 0.83693 to 0.84147, saving model to ./result2/gru/f3_l60_e128_h128\\best_model.h5\n",
      "Epoch 6/15\n",
      "785/785 [==============================] - 27s 35ms/step - loss: 0.3341 - acc: 0.8600 - recall_3: 0.9003 - precision_3: 0.8674 - val_loss: 0.3577 - val_acc: 0.8433 - val_recall_3: 0.8821 - val_precision_3: 0.8567\n",
      "\n",
      "Epoch 00006: val_acc improved from 0.84147 to 0.84326, saving model to ./result2/gru/f3_l60_e128_h128\\best_model.h5\n",
      "Epoch 7/15\n",
      "785/785 [==============================] - 27s 35ms/step - loss: 0.3218 - acc: 0.8664 - recall_3: 0.9048 - precision_3: 0.8734 - val_loss: 0.3778 - val_acc: 0.8352 - val_recall_3: 0.8265 - val_precision_3: 0.8866\n",
      "\n",
      "Epoch 00007: val_acc did not improve from 0.84326\n",
      "Epoch 8/15\n",
      "785/785 [==============================] - 28s 35ms/step - loss: 0.3133 - acc: 0.8715 - recall_3: 0.9088 - precision_3: 0.8784 - val_loss: 0.3739 - val_acc: 0.8392 - val_recall_3: 0.8397 - val_precision_3: 0.8822\n",
      "\n",
      "Epoch 00008: val_acc did not improve from 0.84326\n",
      "Epoch 9/15\n",
      "785/785 [==============================] - 29s 37ms/step - loss: 0.3015 - acc: 0.8769 - recall_3: 0.9118 - precision_3: 0.8834 - val_loss: 0.3619 - val_acc: 0.8416 - val_recall_3: 0.8594 - val_precision_3: 0.8706\n",
      "\n",
      "Epoch 00009: val_acc did not improve from 0.84326\n",
      "Epoch 10/15\n",
      "785/785 [==============================] - 29s 37ms/step - loss: 0.2958 - acc: 0.8805 - recall_3: 0.9138 - precision_3: 0.8870 - val_loss: 0.3739 - val_acc: 0.8362 - val_recall_3: 0.8276 - val_precision_3: 0.8875\n",
      "\n",
      "Epoch 00010: val_acc did not improve from 0.84326\n",
      "Epoch 00010: early stopping\n"
     ]
    }
   ],
   "source": [
    "history = model.fit(X_train, y_train, epochs=15, callbacks=[mc, es], batch_size=256, validation_split=0.2)"
   ]
  },
  {
   "cell_type": "code",
   "execution_count": 12,
   "id": "sonic-tyler",
   "metadata": {},
   "outputs": [],
   "source": [
    "from tensorflow.keras.layers import Embedding, Dense, GRU\n",
    "from tensorflow.keras.models import Sequential\n",
    "from tensorflow.keras.callbacks import ModelCheckpoint, EarlyStopping\n",
    "import tensorflow as tf\n",
    "from keras.optimizers import RMSprop\n",
    "\n",
    "\n",
    "embedding_size = 128\n",
    "hidden_size = 128\n",
    "\n",
    "model = Sequential()\n",
    "model.add(Embedding(vocab_size, embedding_size))\n",
    "model.add(GRU(hidden_size))\n",
    "model.add(Dense(1, activation='sigmoid'))\n",
    "\n",
    "es = EarlyStopping(monitor='val_loss', mode='min', verbose=1, patience=4)\n",
    "mc = ModelCheckpoint(\n",
    "    f'./result2/gru/f{min_freq}_l{max_len}_e{embedding_size}_h{hidden_size}/best_model.h5', \n",
    "    monitor='val_acc', mode='max', verbose=1, save_best_only=True\n",
    ")\n",
    "model.compile(\n",
    "    optimizer=RMSprop(learning_rate=0.0005, rho=0.9, momentum=0.00001, epsilon=1e-7, centered=False), \n",
    "    loss='binary_crossentropy', \n",
    "    metrics=['acc', tf.keras.metrics.Recall(), tf.keras.metrics.Precision()]\n",
    ")"
   ]
  },
  {
   "cell_type": "code",
   "execution_count": null,
   "id": "elegant-prerequisite",
   "metadata": {},
   "outputs": [],
   "source": [
    "history = model.fit(X_train, y_train, epochs=15, callbacks=[mc, es], batch_size=256, validation_split=0.2)"
   ]
  },
  {
   "cell_type": "code",
   "execution_count": null,
   "id": "protected-editor",
   "metadata": {
    "scrolled": true
   },
   "outputs": [],
   "source": [
    "import matplotlib.pyplot as plt\n",
    "\n",
    "\n",
    "plt.figure(figsize=(25, 6))\n",
    "plt.subplot(1, 4, 1)\n",
    "plt.plot(history.history['acc'])\n",
    "plt.plot(history.history['val_acc'])\n",
    "plt.title('accuracy')\n",
    "plt.xlabel('Epoch')\n",
    "plt.ylabel('Accuracy')\n",
    "plt.legend(['Train', 'Val'], loc='upper left')\n",
    "\n",
    "plt.subplot(1, 4, 2)\n",
    "plt.plot(history.history['loss'])\n",
    "plt.plot(history.history['val_loss'])\n",
    "plt.title('Loss')\n",
    "plt.xlabel('Epoch')\n",
    "plt.ylabel('Loss')\n",
    "plt.legend(['Train', 'Val'], loc='upper left')\n",
    "\n",
    "plt.subplot(1, 4, 3)\n",
    "plt.plot(history.history[f'recall'])\n",
    "plt.plot(history.history[f'val_recall'])\n",
    "plt.title('Recall')\n",
    "plt.xlabel('Epoch')\n",
    "plt.ylabel('Recall')\n",
    "plt.legend(['Train', 'Val'], loc='upper left')\n",
    "\n",
    "plt.subplot(1, 4, 4)\n",
    "plt.plot(history.history[f'precision'])\n",
    "plt.plot(history.history[f'val_precision'])\n",
    "plt.title(' Precision')\n",
    "plt.xlabel('Epoch')\n",
    "plt.ylabel('Precision')\n",
    "plt.legend(['Train', 'Val'], loc='upper left')\n",
    "\n",
    "# num = 1\n",
    "# plt.subplot(1, 4, 3)\n",
    "# plt.plot(history.history[f'recall_{num}'])\n",
    "# plt.plot(history.history[f'val_recall_{num}'])\n",
    "# plt.title('Recall')\n",
    "# plt.xlabel('Epoch')\n",
    "# plt.ylabel('Recall')\n",
    "# plt.legend(['Train', 'Val'], loc='upper left')\n",
    "\n",
    "# plt.subplot(1, 4, 4)\n",
    "# plt.plot(history.history[f'precision_{num}'])\n",
    "# plt.plot(history.history[f'val_precision_{num}'])\n",
    "# plt.title(' Precision')\n",
    "# plt.xlabel('Epoch')\n",
    "# plt.ylabel('Precision')\n",
    "# plt.legend(['Train', 'Val'], loc='upper left')\n",
    "\n",
    "plt.savefig(f'./result/gru/c{cleasing_num}_f{min_freq}_l{max_len}_e{embedding_size}_h{hidden_size}/alrp.png')"
   ]
  },
  {
   "cell_type": "markdown",
   "id": "perfect-miracle",
   "metadata": {},
   "source": [
    "# 5. 평가"
   ]
  },
  {
   "cell_type": "code",
   "execution_count": 38,
   "id": "defensive-morocco",
   "metadata": {},
   "outputs": [],
   "source": [
    "from tensorflow.keras.models import load_model\n",
    "\n",
    "\n",
    "loaded_model = load_model(f'./result2/gru/f{min_freq}_l{max_len}_e{embedding_size}_h{hidden_size}/best_model.h5')"
   ]
  },
  {
   "cell_type": "code",
   "execution_count": 39,
   "id": "higher-plastic",
   "metadata": {},
   "outputs": [
    {
     "name": "stdout",
     "output_type": "stream",
     "text": [
      "1962/1962 [==============================] - 12s 6ms/step - loss: 0.3564 - acc: 0.8437 - recall_3: 0.8789 - precision_3: 0.8605\n",
      "\n",
      " 테스트 정확도: 0.8437\n"
     ]
    }
   ],
   "source": [
    "evaluate_list = loaded_model.evaluate(X_test, y_test)\n",
    "print(\"\\n 테스트 정확도: %.4f\" % evaluate_list[1])"
   ]
  },
  {
   "cell_type": "code",
   "execution_count": null,
   "id": "together-handy",
   "metadata": {},
   "outputs": [],
   "source": [
    "for eval in evaluate_list:\n",
    "    print(\"\\n 평과 결과 리스트 ?: %.4f\" % eval)"
   ]
  },
  {
   "cell_type": "code",
   "execution_count": null,
   "id": "greenhouse-river",
   "metadata": {},
   "outputs": [],
   "source": [
    "def predict_text(tokenized_reviews):\n",
    "    # 정수 인코딩\n",
    "    encoded_reviews = tokenizer.texts_to_sequences(tokenized_reviews)\n",
    "\n",
    "    # 패딩\n",
    "    padded_reviews = pad_sequences(encoded_reviews, maxlen = max_len)\n",
    "    \n",
    "    # 예측\n",
    "    scores = loaded_model.predict(padded_reviews)\n",
    "                                  \n",
    "    return scores"
   ]
  },
  {
   "cell_type": "code",
   "execution_count": null,
   "id": "hydraulic-upset",
   "metadata": {},
   "outputs": [],
   "source": [
    "test_data['score'] = predict_text(test_data['tokenized'])\n",
    "test_data['predict'] = [1 if score > 0.5 else 0 for score in test_data['score']]\n",
    "test_data['score'] = test_data['score'].apply(lambda x: int(x * 100) if x > 0.5 else int((1 - x) * 100))"
   ]
  },
  {
   "cell_type": "code",
   "execution_count": null,
   "id": "suitable-comparative",
   "metadata": {},
   "outputs": [],
   "source": [
    "_test_data = test_data[['lael', 'predict','rating','score', 'review','tokenized']]"
   ]
  },
  {
   "cell_type": "code",
   "execution_count": null,
   "id": "dress-salem",
   "metadata": {},
   "outputs": [],
   "source": [
    "positiveg_data = _test_data[_test_data['label'] == 1]\n",
    "positive_wrong_data = positiveg_data[positiveg_data['predict'] == 0]\n",
    "print(positive_wrong_data.head(5))\n",
    "\n",
    "negative_data = _test_data[_test_data['label'] == 0]\n",
    "negative_wrong_data = negative_data[negative_data['predict'] == 1]\n",
    "print(negative_wrong_data.head(5))"
   ]
  },
  {
   "cell_type": "code",
   "execution_count": null,
   "id": "iraqi-surge",
   "metadata": {},
   "outputs": [],
   "source": [
    "positive_wrong_data.to_csv(f'./result/gru/f{min_freq}_l{max_len}_e{embedding_size}_h{hidden_size}/positive_wrong_data.csv', index=False)\n",
    "negative_wrong_data.to_csv(f'./result/gru/f{min_freq}_l{max_len}_e{embedding_size}_h{hidden_size}/negative_wrong_data.csv', index=False)"
   ]
  }
 ],
 "metadata": {
  "kernelspec": {
   "display_name": "Python 3",
   "language": "python",
   "name": "python3"
  },
  "language_info": {
   "codemirror_mode": {
    "name": "ipython",
    "version": 3
   },
   "file_extension": ".py",
   "mimetype": "text/x-python",
   "name": "python",
   "nbconvert_exporter": "python",
   "pygments_lexer": "ipython3",
   "version": "3.7.8"
  }
 },
 "nbformat": 4,
 "nbformat_minor": 5
}
